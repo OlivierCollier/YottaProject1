{
 "cells": [
  {
   "cell_type": "markdown",
   "id": "objective-columbus",
   "metadata": {},
   "source": [
    "# Notebook 3 : interprétabilité du modèle\n",
    "---"
   ]
  },
  {
   "cell_type": "markdown",
   "id": "distinct-collective",
   "metadata": {},
   "source": [
    "Nous nous intéressons dans ce notebook à rendre intelligible, c'est-à-dire compréhensible par un humain, le modèle Random Forest créé dans le cadre de ce projet.\n",
    "Pour cela, nous allons utiliser plusieurs méthodes :\n",
    "- la *Mean Decrease Impurity Importance* (MDI),\n",
    "- la *Permutation Importance*,\n",
    "- le *Tree Interpreter*.\n",
    "\n",
    "Ces méthodes sont globales dans le sens où elles servent à expliquer des résultats à l'échelle du modèle (par opposition à l'échelle locale qui explique les résultats d'une prédiction en particulier), mais TreeInterpreter est également une méthode locale."
   ]
  },
  {
   "cell_type": "code",
   "execution_count": 1,
   "id": "peripheral-engineering",
   "metadata": {},
   "outputs": [
    {
     "ename": "ModuleNotFoundError",
     "evalue": "No module named 'src'",
     "output_type": "error",
     "traceback": [
      "\u001b[0;31m---------------------------------------------------------------------------\u001b[0m",
      "\u001b[0;31mModuleNotFoundError\u001b[0m                       Traceback (most recent call last)",
      "\u001b[0;32m<ipython-input-1-cc132c38c8e0>\u001b[0m in \u001b[0;36m<module>\u001b[0;34m\u001b[0m\n\u001b[1;32m      8\u001b[0m \u001b[0;32mfrom\u001b[0m \u001b[0mtreeinterpreter\u001b[0m \u001b[0;32mimport\u001b[0m \u001b[0mtreeinterpreter\u001b[0m\u001b[0;34m\u001b[0m\u001b[0;34m\u001b[0m\u001b[0m\n\u001b[1;32m      9\u001b[0m \u001b[0;34m\u001b[0m\u001b[0m\n\u001b[0;32m---> 10\u001b[0;31m \u001b[0;32mimport\u001b[0m \u001b[0msrc\u001b[0m\u001b[0;34m.\u001b[0m\u001b[0mconfig\u001b[0m\u001b[0;34m.\u001b[0m\u001b[0mcolumn_names\u001b[0m \u001b[0;32mas\u001b[0m \u001b[0mcol\u001b[0m\u001b[0;34m\u001b[0m\u001b[0;34m\u001b[0m\u001b[0m\n\u001b[0m\u001b[1;32m     11\u001b[0m \u001b[0;32mimport\u001b[0m \u001b[0msrc\u001b[0m\u001b[0;34m.\u001b[0m\u001b[0mconfig\u001b[0m\u001b[0;34m.\u001b[0m\u001b[0mbase\u001b[0m \u001b[0;32mas\u001b[0m \u001b[0mbase\u001b[0m\u001b[0;34m\u001b[0m\u001b[0;34m\u001b[0m\u001b[0m\n\u001b[1;32m     12\u001b[0m \u001b[0;32mfrom\u001b[0m \u001b[0msrc\u001b[0m\u001b[0;34m.\u001b[0m\u001b[0minfrastructure\u001b[0m\u001b[0;34m.\u001b[0m\u001b[0mbuild_dataset\u001b[0m \u001b[0;32mimport\u001b[0m \u001b[0mDataBuilderFactory\u001b[0m\u001b[0;34m,\u001b[0m \u001b[0mDataMerger\u001b[0m\u001b[0;34m\u001b[0m\u001b[0;34m\u001b[0m\u001b[0m\n",
      "\u001b[0;31mModuleNotFoundError\u001b[0m: No module named 'src'"
     ]
    }
   ],
   "source": [
    "import pandas as pd\n",
    "import numpy as np\n",
    "import pickle\n",
    "\n",
    "from sklearn.model_selection import train_test_split\n",
    "from sklearn.pipeline import Pipeline\n",
    "from eli5.sklearn.permutation_importance import PermutationImportance\n",
    "from treeinterpreter import treeinterpreter\n",
    "\n",
    "import src.config.column_names as col\n",
    "import src.config.base as base\n",
    "from src.infrastructure.build_dataset import DataBuilderFactory, DataMerger\n",
    "from src.domain.cleaning import MissingValueTreatment\n",
    "from src.domain.build_features import feature_engineering_transformer\n",
    "from interpretability_utilities import plot_features_importance \n",
    "from interpretability_utilities import plot_observation_contribution"
   ]
  },
  {
   "cell_type": "code",
   "execution_count": 3,
   "id": "amino-belarus",
   "metadata": {},
   "outputs": [],
   "source": [
    "from warnings import simplefilter\n",
    "from pandas.core.common import SettingWithCopyWarning\n",
    "\n",
    "# Ignorer les warnings pour améliorer la lisibilité\n",
    "simplefilter(action='ignore', category=FutureWarning)\n",
    "simplefilter(action=\"ignore\", category=SettingWithCopyWarning)"
   ]
  },
  {
   "cell_type": "markdown",
   "id": "falling-fruit",
   "metadata": {},
   "source": [
    "# 1. Chargement des données"
   ]
  },
  {
   "cell_type": "code",
   "execution_count": 2,
   "id": "based-elevation",
   "metadata": {},
   "outputs": [
    {
     "ename": "NameError",
     "evalue": "name 'DataBuilderFactory' is not defined",
     "output_type": "error",
     "traceback": [
      "\u001b[0;31m---------------------------------------------------------------------------\u001b[0m",
      "\u001b[0;31mNameError\u001b[0m                                 Traceback (most recent call last)",
      "\u001b[0;32m<ipython-input-2-f61074510514>\u001b[0m in \u001b[0;36m<module>\u001b[0;34m\u001b[0m\n\u001b[1;32m      1\u001b[0m \u001b[0;31m# Build datasets\u001b[0m\u001b[0;34m\u001b[0m\u001b[0;34m\u001b[0m\u001b[0;34m\u001b[0m\u001b[0m\n\u001b[1;32m      2\u001b[0m \u001b[0;34m\u001b[0m\u001b[0m\n\u001b[0;32m----> 3\u001b[0;31m \u001b[0mclient_builder\u001b[0m \u001b[0;34m=\u001b[0m \u001b[0mDataBuilderFactory\u001b[0m\u001b[0;34m(\u001b[0m\u001b[0mbase\u001b[0m\u001b[0;34m.\u001b[0m\u001b[0mTRAIN_CLIENT_DATA_PATH\u001b[0m\u001b[0;34m,\u001b[0m \u001b[0mbase\u001b[0m\u001b[0;34m.\u001b[0m\u001b[0mconfig_client_data\u001b[0m\u001b[0;34m,\u001b[0m \u001b[0mbase\u001b[0m\u001b[0;34m.\u001b[0m\u001b[0mALL_CLIENT_DATA_TRANSLATION\u001b[0m\u001b[0;34m)\u001b[0m\u001b[0;34m\u001b[0m\u001b[0;34m\u001b[0m\u001b[0m\n\u001b[0m\u001b[1;32m      4\u001b[0m \u001b[0mclient_data\u001b[0m \u001b[0;34m=\u001b[0m \u001b[0mclient_builder\u001b[0m\u001b[0;34m.\u001b[0m\u001b[0mtransform\u001b[0m\u001b[0;34m(\u001b[0m\u001b[0;34m'client'\u001b[0m\u001b[0;34m)\u001b[0m\u001b[0;34m\u001b[0m\u001b[0;34m\u001b[0m\u001b[0m\n\u001b[1;32m      5\u001b[0m \u001b[0;34m\u001b[0m\u001b[0m\n",
      "\u001b[0;31mNameError\u001b[0m: name 'DataBuilderFactory' is not defined"
     ]
    }
   ],
   "source": [
    "# Build datasets\n",
    "\n",
    "client_builder = DataBuilderFactory(base.TRAIN_CLIENT_DATA_PATH, \n",
    "                                    base.config_client_data, \n",
    "                                    base.ALL_CLIENT_DATA_TRANSLATION)\n",
    "client_data = client_builder.transform('client')\n",
    "\n",
    "eco_builder = DataBuilderFactory(base.TRAIN_ECO_DATA_PATH, base.config_eco_data)\n",
    "eco_data = eco_builder.transform('eco')\n",
    "\n",
    "# Merging files to final dataset\n",
    "X, y = DataMerger(client_data, eco_data, col.MERGER_FIELD).transform()\n",
    "y = y.eq('Yes').astype(int)"
   ]
  },
  {
   "cell_type": "code",
   "execution_count": 5,
   "id": "ecological-houston",
   "metadata": {},
   "outputs": [],
   "source": [
    "X_train, X_test, y_train, y_test = train_test_split(X, y, \n",
    "                                                    test_size=0.2, \n",
    "                                                    stratify=y, \n",
    "                                                    random_state=base.SEED)"
   ]
  },
  {
   "cell_type": "code",
   "execution_count": 6,
   "id": "handy-zimbabwe",
   "metadata": {},
   "outputs": [],
   "source": [
    "column_names = ['BALANCE', 'NB_CONTACT_CURRENT_CAMPAIGN', 'NB_CONTACT_LAST_CAMPAIGN', 'EDUCATION_PRIMARY', 'EDUCATION_SECONDARY', \n",
    "                'HAS_HOUSING_LOAN', 'HAS_PERSO_LOAN', 'HAS_DEFAULT', 'IS_RETIRED', 'WAS_LAST_CAMPAIGN_SUCCESS', 'IS_SINGLE',\n",
    "               'SUP_25_YEARS_OLD', 'SUP_60_YEARS_OLD', 'AGE', 'MONTH_LAST_CONTACT_DATE', 'HAS_LOAN', 'NB_DAYS_LAST_CONTACT','EMPLOYMENT_VARIATION_RATE',\n",
    "                'IDX_CONSUMER_PRICE', 'IDX_CONSUMER_CONFIDENCE']"
   ]
  },
  {
   "cell_type": "markdown",
   "id": "south-webcam",
   "metadata": {},
   "source": [
    "# 2. Chargement du modèle "
   ]
  },
  {
   "cell_type": "code",
   "execution_count": 9,
   "id": "productive-advertising",
   "metadata": {},
   "outputs": [],
   "source": [
    "# Chargement de la pipeline\n",
    "pipeline = pickle.load(open(base.SAVED_MODEL_PATH, \"rb\"))\n",
    "\n",
    "# Extraction du classifieur\n",
    "clf = pipeline.best_estimator_.named_steps['rf_clf']\n",
    "\n",
    "# Extraction des étapes de pre-processing (imputation et feature engineering)\n",
    "transfo_pipeline = pipeline.best_estimator_[:2]"
   ]
  },
  {
   "cell_type": "code",
   "execution_count": 11,
   "id": "featured-directory",
   "metadata": {},
   "outputs": [],
   "source": [
    "# Transformation des datasets d'entrainement et de test\n",
    "X_train_transformed = transfo_pipeline.fit_transform(X_train, y_train)\n",
    "X_train_transformed = pd.DataFrame(X_train_transformed, columns=column_names, index= X_train.index)\n",
    "\n",
    "X_test_transformed = transfo_pipeline.fit_transform(X_test, y_test)\n",
    "X_test_transformed = pd.DataFrame(X_test_transformed, columns=column_names, index= X_test.index)"
   ]
  },
  {
   "cell_type": "code",
   "execution_count": 12,
   "id": "individual-stomach",
   "metadata": {},
   "outputs": [
    {
     "name": "stdout",
     "output_type": "stream",
     "text": [
      "Il y a 20 variables après le feature engineering.\n",
      "\n",
      "Les variables sont les suivantes :\n",
      "['BALANCE', 'NB_CONTACT_CURRENT_CAMPAIGN', 'NB_CONTACT_LAST_CAMPAIGN', 'EDUCATION??', 'EDUCATION_SECONDARY', 'HAS_HOUSING_LOAN', 'HAS_PERSO_LOAN', 'HAS_DEFAULT', 'IS_RETIRED', 'WAS_LAST_CAMPAIGN_SUCCESS', 'IS_SINGLE', 'SUP_25_YEARS_OLD', 'SUP_60_YEARS_OLD', 'AGE', 'LAST_CONTACT_DATE', 'HAS_LOAN', 'NB_DAYS_LAST_CONTACT', 'IDX_EMPLOYMENT_RATE', 'IDX_CONSUMER_PRICE', 'IDX_CONSUMER_CONFIDENCE']\n"
     ]
    }
   ],
   "source": [
    "print(f'Il y a {X_train_transformed.shape[1]} variables après le feature engineering.\\n')\n",
    "print('Les variables sont les suivantes :')\n",
    "print(column_names)"
   ]
  },
  {
   "cell_type": "markdown",
   "id": "white-undergraduate",
   "metadata": {},
   "source": [
    "# 3. Importance des variables"
   ]
  },
  {
   "cell_type": "markdown",
   "id": "pleased-abraham",
   "metadata": {},
   "source": [
    "## a. MDI (Mean Decrease Impurity Importance)"
   ]
  },
  {
   "cell_type": "markdown",
   "id": "urban-sydney",
   "metadata": {},
   "source": [
    "La MDI (Mean Decrease Impurity Importance), ou *feature importance*, nous renseigne sur les variables ayant eu le plus de poids dans l'entrainement du modèle. Précisément, la MDI correspond à la diminution de l'impureté des noeuds de l'arbre. Ce critère est ensuite pondéré par le nombre d'arbres de la forêt aléatoire."
   ]
  },
  {
   "cell_type": "code",
   "execution_count": 13,
   "id": "beautiful-attempt",
   "metadata": {},
   "outputs": [],
   "source": [
    "importances = clf.feature_importances_"
   ]
  },
  {
   "cell_type": "code",
   "execution_count": 36,
   "id": "primary-marshall",
   "metadata": {},
   "outputs": [
    {
     "data": {
      "image/png": "[encoded data removed]",
      "text/plain": [
       "<Figure size 720x432 with 1 Axes>"
      ]
     },
     "metadata": {
      "needs_background": "light"
     },
     "output_type": "display_data"
    }
   ],
   "source": [
    "plot_features_importance(X_train_transformed,importances, 8)"
   ]
  },
  {
   "cell_type": "markdown",
   "id": "touched-detroit",
   "metadata": {},
   "source": [
    "La MDI nous montre que parmi les variables les plus importantes pour prédire si le client va souscrire au produit, les données socio-économiques ont une place très importante, en particulier le taux d'emploi et l'indice de confiance des consommateurs. La date de dernier contact avec le client pèse aussi significativement dans la balance."
   ]
  },
  {
   "cell_type": "markdown",
   "id": "surprised-wealth",
   "metadata": {},
   "source": [
    "## b. Permutation importance"
   ]
  },
  {
   "cell_type": "markdown",
   "id": "homeless-ownership",
   "metadata": {},
   "source": [
    "La *permutation importance* (ou *Mean Decrease Accuracy Importance*) est une autre méthode utilisée pour déterminer les variables ayant eu le plus de poids dans la construction des arbres de décision de la forêt aléatoire.\n",
    "\n",
    "Cette méthode calcule l'importance des variables en mesurant comment le score choisi (accuracy, recall,...) décroît quand cette variable n'est pas disponible. Cela montre donc à quel point la variable est précieuse, d'où son importance."
   ]
  },
  {
   "cell_type": "code",
   "execution_count": 15,
   "id": "accepting-torture",
   "metadata": {},
   "outputs": [],
   "source": [
    "permutation_imp = PermutationImportance(clf, \n",
    "                                        scoring='average_precision', \n",
    "                                        n_iter=20, \n",
    "                                        random_state=42, \n",
    "                                        cv='prefit', \n",
    "                                        refit=False)"
   ]
  },
  {
   "cell_type": "code",
   "execution_count": 16,
   "id": "thick-accent",
   "metadata": {},
   "outputs": [
    {
     "data": {
      "text/plain": [
       "PermutationImportance(estimator=RandomForestClassifier(class_weight={0: 1,\n",
       "                                                                     1: 9},\n",
       "                                                       max_depth=10,\n",
       "                                                       min_samples_leaf=10,\n",
       "                                                       n_estimators=220),\n",
       "                      n_iter=20, random_state=42, refit=False,\n",
       "                      scoring='average_precision')"
      ]
     },
     "execution_count": 16,
     "metadata": {},
     "output_type": "execute_result"
    }
   ],
   "source": [
    "permutation_imp.fit(X_test_transformed, y_test)"
   ]
  },
  {
   "cell_type": "code",
   "execution_count": 17,
   "id": "stopped-candy",
   "metadata": {},
   "outputs": [
    {
     "data": {
      "image/png": "[encoded data removed]",
      "text/plain": [
       "<Figure size 720x432 with 1 Axes>"
      ]
     },
     "metadata": {
      "needs_background": "light"
     },
     "output_type": "display_data"
    }
   ],
   "source": [
    "plot_features_importance(data=X_test_transformed, importances=permutation_imp.feature_importances_, n_feat=8)"
   ]
  },
  {
   "cell_type": "markdown",
   "id": "regulation-capability",
   "metadata": {},
   "source": [
    "Cette méthode montre également que les variables de type socio-économique ont un poids plus important que les autres variables.\n",
    "\n",
    "On note ici que la variable WAS_LAST_CAMPAIGN_SUCCESS (indicatrice valant 1 si la campagne précédente avait été un succès) est importante par rapport aux autres."
   ]
  },
  {
   "cell_type": "markdown",
   "id": "catholic-teacher",
   "metadata": {},
   "source": [
    "# 4. Tree interpreter"
   ]
  },
  {
   "cell_type": "markdown",
   "id": "smaller-reservoir",
   "metadata": {},
   "source": [
    "La méthode de *Tree interpreter* fonctionne d'une autre manière : chaque prédiction (feuille de l'arbre, *leaf node*) est décomposée en fonction des contributions des variables (les noeuds) qui mènent à elle. Si une variable n'intervient pas dans le chemin vers la prédiction, cela signifie que cette variable n'a pas été utile, sa contribution est donc nulle. Les contributions sont donc calculées de manière locale (prédiction par prédiction).\n",
    "\n",
    "Pour une forêt aléatoire, les contributions correspondent aux moyennes des contributions obtenues pour chacun des arbres.\n",
    "\n",
    "Puis, pour obtenir l'importance de chaque variable à l'échelle globale du modèle, on fait la moyenne des contributions.  "
   ]
  },
  {
   "cell_type": "code",
   "execution_count": 18,
   "id": "polish-principle",
   "metadata": {},
   "outputs": [],
   "source": [
    "predictions, bias, contributions = treeinterpreter.predict(clf, X_test_transformed)"
   ]
  },
  {
   "cell_type": "code",
   "execution_count": 19,
   "id": "handed-arbor",
   "metadata": {},
   "outputs": [
    {
     "data": {
      "image/png": "[encoded data removed]",
      "text/plain": [
       "<Figure size 720x432 with 1 Axes>"
      ]
     },
     "metadata": {
      "needs_background": "light"
     },
     "output_type": "display_data"
    }
   ],
   "source": [
    "tree_interpreter_importances = contributions[:, :, 0].sum(axis=0)\n",
    "plot_features_importance(data=X_test_transformed, importances=tree_interpreter_importances, n_feat=8)"
   ]
  },
  {
   "cell_type": "markdown",
   "id": "orange-breathing",
   "metadata": {},
   "source": [
    "Nous voyons ici aussi que les variables socio-économiques jouent un grand rôle dans la prédiction, et en particulier la variation du taux d'emploi qui arrive en 1ère position pour chaque méthode. C'est aussi le cas pour MONTH_LAST_CONTACT_DATE dont l'importance reste forte quelle que soit la méthode utilisée."
   ]
  },
  {
   "cell_type": "code",
   "execution_count": null,
   "id": "determined-income",
   "metadata": {},
   "outputs": [],
   "source": []
  }
 ],
 "metadata": {
  "kernelspec": {
   "display_name": "Python 3",
   "language": "python",
   "name": "python3"
  },
  "language_info": {
   "codemirror_mode": {
    "name": "ipython",
    "version": 3
   },
   "file_extension": ".py",
   "mimetype": "text/x-python",
   "name": "python",
   "nbconvert_exporter": "python",
   "pygments_lexer": "ipython3",
   "version": "3.9.1"
  }
 },
 "nbformat": 4,
 "nbformat_minor": 5
}
