{
 "cells": [
  {
   "cell_type": "code",
   "execution_count": 6,
   "id": "expanded-worse",
   "metadata": {},
   "outputs": [],
   "source": [
    "from sklearn.model_selection import train_test_split\n",
    "from sklearn.pipeline import Pipeline\n",
    "import pickle\n",
    "\n",
    "import src.config.column_names as col\n",
    "import src.config.base as base\n",
    "from src.infrastructure.build_dataset import DataBuilderFactory, DataMerger\n",
    "from src.domain.cleaning import MissingValueTreatment\n",
    "from interpretability_utilities import plot_features_importance"
   ]
  },
  {
   "cell_type": "code",
   "execution_count": null,
   "id": "incomplete-opera",
   "metadata": {},
   "outputs": [],
   "source": [
    "# Preprocessing client data\n",
    "client_builder = DataBuilderFactory(client_file, \n",
    "                                    config_client_data, \n",
    "                                    ALL_CLIENT_DATA_TRANSLATION)\n",
    "client_data = client_builder.transform('client')\n",
    "\n",
    "# Preprocessing eco data\n",
    "eco_builder = DataBuilderFactory(eco_file, \n",
    "                                 config_eco_data)\n",
    "eco_data = eco_builder.transform('eco')\n",
    "\n",
    "# Merging files to final dataset\n",
    "X, y = DataMerger(client_data, eco_data, MERGER_FIELD).transform()\n",
    "y = y.eq('Yes').astype(int)"
   ]
  },
  {
   "cell_type": "code",
   "execution_count": 10,
   "id": "minus-imaging",
   "metadata": {},
   "outputs": [
    {
     "name": "stdout",
     "output_type": "stream",
     "text": [
      "========== Processing client data ==========\n",
      "- Casting types.\n",
      "- Translating French words to English.\n",
      "- Dropping rows with too many missing values.\n",
      "- Correcting erroneous entries.\n",
      "========== Processing eco data ==========\n",
      "- Casting types.\n",
      "- Translating French words to English.\n",
      "- Dropping rows with too many missing values.\n",
      "- Imputing missing data.\n",
      "========== Merging datasets ==========\n",
      "========== Separating target from explanatory variables ==========\n"
     ]
    }
   ],
   "source": [
    "# Build datasets\n",
    "\n",
    "client_builder = DataBuilderFactory(base.TRAIN_CLIENT_DATA_PATH, base.config_client_data, base.ALL_CLIENT_DATA_TRANSLATION)\n",
    "client_data = client_builder.transform('client')\n",
    "\n",
    "eco_builder = DataBuilderFactory(base.TRAIN_ECO_DATA_PATH, base.config_eco_data)\n",
    "eco_data = eco_builder.transform('eco')\n",
    "\n",
    "# Merging files to final dataset\n",
    "X, y = DataMerger(client_data, eco_data, col.MERGER_FIELD).transform()\n",
    "y = y.eq('Yes').astype(int)"
   ]
  },
  {
   "cell_type": "code",
   "execution_count": 17,
   "id": "equal-burner",
   "metadata": {},
   "outputs": [],
   "source": [
    "X_train, X_test, y_train, y_test = train_test_split(X, y, \n",
    "                                                    test_size=0.2, \n",
    "                                                    stratify=y, \n",
    "                                                    random_state=base.SEED)"
   ]
  },
  {
   "cell_type": "code",
   "execution_count": 20,
   "id": "thorough-satin",
   "metadata": {},
   "outputs": [],
   "source": [
    "clf = pickle.load(open(base.SAVED_MODEL_PATH, \"rb\"))"
   ]
  },
  {
   "cell_type": "code",
   "execution_count": 23,
   "id": "annual-missouri",
   "metadata": {},
   "outputs": [],
   "source": [
    "y_pred = clf.best_estimator_.predict(X_test)"
   ]
  },
  {
   "cell_type": "code",
   "execution_count": 30,
   "id": "arabic-virus",
   "metadata": {},
   "outputs": [
    {
     "data": {
      "text/plain": [
       "Index(['DATE', 'AGE', 'JOB_TYPE', 'STATUS', 'EDUCATION', 'HAS_DEFAULT',\n",
       "       'BALANCE', 'HAS_HOUSING_LOAN', 'HAS_PERSO_LOAN', 'CONTACT',\n",
       "       'DURATION_CONTACT', 'NB_CONTACT', 'NB_DAY_LAST_CONTACT',\n",
       "       'NB_CONTACT_LAST_CAMPAIGN', 'RESULT_LAST_CAMPAIGN',\n",
       "       'EMPLOYMENT_VARIATION_RATE', 'IDX_CONSUMER_PRICE',\n",
       "       'IDX_CONSUMER_CONFIDENCE'],\n",
       "      dtype='object')"
      ]
     },
     "execution_count": 30,
     "metadata": {},
     "output_type": "execute_result"
    }
   ],
   "source": [
    "X_train.columns"
   ]
  },
  {
   "cell_type": "code",
   "execution_count": 41,
   "id": "reserved-tissue",
   "metadata": {},
   "outputs": [],
   "source": [
    "imp = clf.best_estimator_.named_steps.get('imputation')\n",
    "fe = clf.best_estimator_.named_steps.get('feature_engineering')"
   ]
  },
  {
   "cell_type": "code",
   "execution_count": 47,
   "id": "aquatic-therapist",
   "metadata": {},
   "outputs": [],
   "source": [
    "process_pipeline = Pipeline([('imputation', imp),\n",
    "                     ('feature_engineering', fe)\n",
    "                     ])"
   ]
  },
  {
   "cell_type": "code",
   "execution_count": 49,
   "id": "generous-perth",
   "metadata": {
    "collapsed": true,
    "jupyter": {
     "outputs_hidden": true
    },
    "tags": []
   },
   "outputs": [
    {
     "name": "stderr",
     "output_type": "stream",
     "text": [
      "/Users/jeremie/Library/Caches/pypoetry/virtualenvs/productsubscription-oc-jk-rf8_RRH8-py3.8/lib/python3.8/site-packages/pandas/core/indexing.py:1676: SettingWithCopyWarning: \n",
      "A value is trying to be set on a copy of a slice from a DataFrame.\n",
      "Try using .loc[row_indexer,col_indexer] = value instead\n",
      "\n",
      "See the caveats in the documentation: https://pandas.pydata.org/pandas-docs/stable/user_guide/indexing.html#returning-a-view-versus-a-copy\n",
      "  self._setitem_single_column(ilocs[0], value, pi)\n",
      "/Users/jeremie/Library/Caches/pypoetry/virtualenvs/productsubscription-oc-jk-rf8_RRH8-py3.8/lib/python3.8/site-packages/pandas/core/indexing.py:1676: SettingWithCopyWarning: \n",
      "A value is trying to be set on a copy of a slice from a DataFrame.\n",
      "Try using .loc[row_indexer,col_indexer] = value instead\n",
      "\n",
      "See the caveats in the documentation: https://pandas.pydata.org/pandas-docs/stable/user_guide/indexing.html#returning-a-view-versus-a-copy\n",
      "  self._setitem_single_column(ilocs[0], value, pi)\n",
      "/Users/jeremie/Library/Caches/pypoetry/virtualenvs/productsubscription-oc-jk-rf8_RRH8-py3.8/lib/python3.8/site-packages/pandas/core/indexing.py:1676: SettingWithCopyWarning: \n",
      "A value is trying to be set on a copy of a slice from a DataFrame.\n",
      "Try using .loc[row_indexer,col_indexer] = value instead\n",
      "\n",
      "See the caveats in the documentation: https://pandas.pydata.org/pandas-docs/stable/user_guide/indexing.html#returning-a-view-versus-a-copy\n",
      "  self._setitem_single_column(ilocs[0], value, pi)\n",
      "/Users/jeremie/Library/Caches/pypoetry/virtualenvs/productsubscription-oc-jk-rf8_RRH8-py3.8/lib/python3.8/site-packages/pandas/core/indexing.py:1676: SettingWithCopyWarning: \n",
      "A value is trying to be set on a copy of a slice from a DataFrame.\n",
      "Try using .loc[row_indexer,col_indexer] = value instead\n",
      "\n",
      "See the caveats in the documentation: https://pandas.pydata.org/pandas-docs/stable/user_guide/indexing.html#returning-a-view-versus-a-copy\n",
      "  self._setitem_single_column(ilocs[0], value, pi)\n",
      "/Users/jeremie/Library/Caches/pypoetry/virtualenvs/productsubscription-oc-jk-rf8_RRH8-py3.8/lib/python3.8/site-packages/pandas/core/indexing.py:1676: SettingWithCopyWarning: \n",
      "A value is trying to be set on a copy of a slice from a DataFrame.\n",
      "Try using .loc[row_indexer,col_indexer] = value instead\n",
      "\n",
      "See the caveats in the documentation: https://pandas.pydata.org/pandas-docs/stable/user_guide/indexing.html#returning-a-view-versus-a-copy\n",
      "  self._setitem_single_column(ilocs[0], value, pi)\n",
      "/Users/jeremie/Library/Caches/pypoetry/virtualenvs/productsubscription-oc-jk-rf8_RRH8-py3.8/lib/python3.8/site-packages/pandas/core/indexing.py:1676: SettingWithCopyWarning: \n",
      "A value is trying to be set on a copy of a slice from a DataFrame.\n",
      "Try using .loc[row_indexer,col_indexer] = value instead\n",
      "\n",
      "See the caveats in the documentation: https://pandas.pydata.org/pandas-docs/stable/user_guide/indexing.html#returning-a-view-versus-a-copy\n",
      "  self._setitem_single_column(ilocs[0], value, pi)\n",
      "/Users/jeremie/Library/Caches/pypoetry/virtualenvs/productsubscription-oc-jk-rf8_RRH8-py3.8/lib/python3.8/site-packages/pandas/core/indexing.py:1676: SettingWithCopyWarning: \n",
      "A value is trying to be set on a copy of a slice from a DataFrame.\n",
      "Try using .loc[row_indexer,col_indexer] = value instead\n",
      "\n",
      "See the caveats in the documentation: https://pandas.pydata.org/pandas-docs/stable/user_guide/indexing.html#returning-a-view-versus-a-copy\n",
      "  self._setitem_single_column(ilocs[0], value, pi)\n",
      "/Users/jeremie/Library/Caches/pypoetry/virtualenvs/productsubscription-oc-jk-rf8_RRH8-py3.8/lib/python3.8/site-packages/pandas/core/indexing.py:1676: SettingWithCopyWarning: \n",
      "A value is trying to be set on a copy of a slice from a DataFrame.\n",
      "Try using .loc[row_indexer,col_indexer] = value instead\n",
      "\n",
      "See the caveats in the documentation: https://pandas.pydata.org/pandas-docs/stable/user_guide/indexing.html#returning-a-view-versus-a-copy\n",
      "  self._setitem_single_column(ilocs[0], value, pi)\n",
      "/Users/jeremie/Library/Caches/pypoetry/virtualenvs/productsubscription-oc-jk-rf8_RRH8-py3.8/lib/python3.8/site-packages/pandas/core/indexing.py:1676: SettingWithCopyWarning: \n",
      "A value is trying to be set on a copy of a slice from a DataFrame.\n",
      "Try using .loc[row_indexer,col_indexer] = value instead\n",
      "\n",
      "See the caveats in the documentation: https://pandas.pydata.org/pandas-docs/stable/user_guide/indexing.html#returning-a-view-versus-a-copy\n",
      "  self._setitem_single_column(ilocs[0], value, pi)\n",
      "/Users/jeremie/Library/Caches/pypoetry/virtualenvs/productsubscription-oc-jk-rf8_RRH8-py3.8/lib/python3.8/site-packages/pandas/core/indexing.py:1676: SettingWithCopyWarning: \n",
      "A value is trying to be set on a copy of a slice from a DataFrame.\n",
      "Try using .loc[row_indexer,col_indexer] = value instead\n",
      "\n",
      "See the caveats in the documentation: https://pandas.pydata.org/pandas-docs/stable/user_guide/indexing.html#returning-a-view-versus-a-copy\n",
      "  self._setitem_single_column(ilocs[0], value, pi)\n"
     ]
    }
   ],
   "source": [
    "tr = process_pipeline.transform(X_train)"
   ]
  },
  {
   "cell_type": "code",
   "execution_count": 50,
   "id": "competitive-stroke",
   "metadata": {},
   "outputs": [
    {
     "data": {
      "text/plain": [
       "array([[-0.0405, 0.7333333333333333, 0.0, ..., 0.925685505956028,\n",
       "        0.6923678744588491, -0.3539632583700152],\n",
       "       [-0.0005, 0.06666666666666667, 0.0, ..., 0.7326111159500192,\n",
       "        0.8211360521368004, 0.9248722473819695],\n",
       "       [0.0, 0.3333333333333333, 0.0, ..., 0.925685505956028,\n",
       "        -0.11073891790108122, 0.9857691762273014],\n",
       "       ...,\n",
       "       [0.000125, 0.06666666666666667, 0.0, ..., 0.7326111159500192,\n",
       "        0.8211360521368004, 0.9248722473819695],\n",
       "       [0.163375, 0.4, 0.0, ..., -1.9060722141321034,\n",
       "        -1.3492854689878142, 1.6150374409624049],\n",
       "       [0.042125, 0.06666666666666667, 0.0, ..., -1.0694165241060645,\n",
       "        1.1955803582793028, 0.13321217239264646]], dtype=object)"
      ]
     },
     "execution_count": 50,
     "metadata": {},
     "output_type": "execute_result"
    }
   ],
   "source": [
    "tr"
   ]
  },
  {
   "cell_type": "code",
   "execution_count": 64,
   "id": "greek-modification",
   "metadata": {},
   "outputs": [
    {
     "data": {
      "text/plain": [
       "Pipeline(steps=[('imputation', MissingValueTreatment()),\n",
       "                ('feature_engineering',\n",
       "                 ColumnTransformer(transformers=[('balance-clipper',\n",
       "                                                  ClipTransformer(a_max=4000,\n",
       "                                                                  a_min=-4000),\n",
       "                                                  ['BALANCE']),\n",
       "                                                 ('nb-clipper',\n",
       "                                                  ClipTransformer(a_max=15,\n",
       "                                                                  a_min=0),\n",
       "                                                  ['NB_CONTACT',\n",
       "                                                   'NB_CONTACT_LAST_CAMPAIGN']),\n",
       "                                                 ('one-hot-encoder',\n",
       "                                                  OneHotEncoder(drop='first'),\n",
       "                                                  ['STATUS', 'EDUCATION',\n",
       "                                                   'HAS_HOU...\n",
       "                                                 ('date-transformer',\n",
       "                                                  DateTransformer(), ['DATE']),\n",
       "                                                 ('sum-transformer',\n",
       "                                                  LogicalUnionTransformer(),\n",
       "                                                  ['HAS_PERSO_LOAN',\n",
       "                                                   'HAS_HOUSING_LOAN']),\n",
       "                                                 ('identity', StandardScaler(),\n",
       "                                                  ['EMPLOYMENT_VARIATION_RATE',\n",
       "                                                   'IDX_CONSUMER_PRICE',\n",
       "                                                   'IDX_CONSUMER_CONFIDENCE'])])),\n",
       "                ('rf_clf',\n",
       "                 RandomForestClassifier(class_weight={0: 1, 1: 9}, max_depth=10,\n",
       "                                        min_samples_leaf=10,\n",
       "                                        n_estimators=220))])"
      ]
     },
     "execution_count": 64,
     "metadata": {},
     "output_type": "execute_result"
    }
   ],
   "source": [
    "clf.best_estimator_"
   ]
  },
  {
   "cell_type": "code",
   "execution_count": 73,
   "id": "indoor-notice",
   "metadata": {},
   "outputs": [
    {
     "name": "stderr",
     "output_type": "stream",
     "text": [
      "/Users/jeremie/Library/Caches/pypoetry/virtualenvs/productsubscription-oc-jk-rf8_RRH8-py3.8/lib/python3.8/site-packages/category_encoders/utils.py:21: FutureWarning: is_categorical is deprecated and will be removed in a future version.  Use is_categorical_dtype instead\n",
      "  elif pd.api.types.is_categorical(cols):\n"
     ]
    }
   ],
   "source": [
    "fe_output = clf.best_estimator_.named_steps['feature_engineering'].fit_transform(X_train, y_train)"
   ]
  },
  {
   "cell_type": "code",
   "execution_count": 77,
   "id": "positive-circus",
   "metadata": {},
   "outputs": [
    {
     "data": {
      "text/plain": [
       "array([-0.0405, 0.7333333333333333, 0.0, 0.0, 1.0, 0.0, 0.0, 0.0, 1.0,\n",
       "       0.0, 0, 0, 1, 1.0, 0.0, -0.5601547630055554, '7', 1,\n",
       "       0.925685505956028, 0.6923678744588491, -0.3539632583700152],\n",
       "      dtype=object)"
      ]
     },
     "execution_count": 77,
     "metadata": {},
     "output_type": "execute_result"
    }
   ],
   "source": [
    "fe_output[0]"
   ]
  },
  {
   "cell_type": "code",
   "execution_count": 83,
   "id": "collectible-peter",
   "metadata": {},
   "outputs": [
    {
     "data": {
      "text/plain": [
       "array([-0.0005, 0.06666666666666667, 0.0, 1.0, 0.0, 0.0, 1.0, 1.0, 1.0,\n",
       "       0.0, 0, 0, 0, 1.0, 0.0, -0.3691103015136966, '5', 1,\n",
       "       0.7326111159500192, 0.8211360521368004, 0.9248722473819695],\n",
       "      dtype=object)"
      ]
     },
     "execution_count": 83,
     "metadata": {},
     "output_type": "execute_result"
    }
   ],
   "source": [
    "fe_output[1]"
   ]
  },
  {
   "cell_type": "code",
   "execution_count": 80,
   "id": "surprised-worship",
   "metadata": {},
   "outputs": [
    {
     "data": {
      "text/html": [
       "<div>\n",
       "<style scoped>\n",
       "    .dataframe tbody tr th:only-of-type {\n",
       "        vertical-align: middle;\n",
       "    }\n",
       "\n",
       "    .dataframe tbody tr th {\n",
       "        vertical-align: top;\n",
       "    }\n",
       "\n",
       "    .dataframe thead th {\n",
       "        text-align: right;\n",
       "    }\n",
       "</style>\n",
       "<table border=\"1\" class=\"dataframe\">\n",
       "  <thead>\n",
       "    <tr style=\"text-align: right;\">\n",
       "      <th></th>\n",
       "      <th>DATE</th>\n",
       "      <th>AGE</th>\n",
       "      <th>JOB_TYPE</th>\n",
       "      <th>STATUS</th>\n",
       "      <th>EDUCATION</th>\n",
       "      <th>HAS_DEFAULT</th>\n",
       "      <th>BALANCE</th>\n",
       "      <th>HAS_HOUSING_LOAN</th>\n",
       "      <th>HAS_PERSO_LOAN</th>\n",
       "      <th>CONTACT</th>\n",
       "      <th>DURATION_CONTACT</th>\n",
       "      <th>NB_CONTACT</th>\n",
       "      <th>NB_DAY_LAST_CONTACT</th>\n",
       "      <th>NB_CONTACT_LAST_CAMPAIGN</th>\n",
       "      <th>RESULT_LAST_CAMPAIGN</th>\n",
       "      <th>EMPLOYMENT_VARIATION_RATE</th>\n",
       "      <th>IDX_CONSUMER_PRICE</th>\n",
       "      <th>IDX_CONSUMER_CONFIDENCE</th>\n",
       "    </tr>\n",
       "  </thead>\n",
       "  <tbody>\n",
       "    <tr>\n",
       "      <th>15847</th>\n",
       "      <td>2008-07-21</td>\n",
       "      <td>35.0</td>\n",
       "      <td>Manager</td>\n",
       "      <td>Single</td>\n",
       "      <td>Graduate studies</td>\n",
       "      <td>No</td>\n",
       "      <td>-324.0</td>\n",
       "      <td>No</td>\n",
       "      <td>Yes</td>\n",
       "      <td>Portable</td>\n",
       "      <td>985</td>\n",
       "      <td>11</td>\n",
       "      <td>-1</td>\n",
       "      <td>0</td>\n",
       "      <td>Fail</td>\n",
       "      <td>1.4</td>\n",
       "      <td>93.918</td>\n",
       "      <td>-42.7</td>\n",
       "    </tr>\n",
       "    <tr>\n",
       "      <th>7111</th>\n",
       "      <td>2008-05-29</td>\n",
       "      <td>37.0</td>\n",
       "      <td>Blue-collar worker</td>\n",
       "      <td>Married</td>\n",
       "      <td>Secondary education</td>\n",
       "      <td>No</td>\n",
       "      <td>-4.0</td>\n",
       "      <td>Yes</td>\n",
       "      <td>Yes</td>\n",
       "      <td>Portable</td>\n",
       "      <td>381</td>\n",
       "      <td>1</td>\n",
       "      <td>-1</td>\n",
       "      <td>0</td>\n",
       "      <td>Fail</td>\n",
       "      <td>1.1</td>\n",
       "      <td>93.994</td>\n",
       "      <td>-36.4</td>\n",
       "    </tr>\n",
       "    <tr>\n",
       "      <th>22312</th>\n",
       "      <td>2008-08-22</td>\n",
       "      <td>52.0</td>\n",
       "      <td>Retired</td>\n",
       "      <td>Married</td>\n",
       "      <td>Secondary education</td>\n",
       "      <td>No</td>\n",
       "      <td>0.0</td>\n",
       "      <td>No</td>\n",
       "      <td>No</td>\n",
       "      <td>Portable</td>\n",
       "      <td>351</td>\n",
       "      <td>5</td>\n",
       "      <td>-1</td>\n",
       "      <td>0</td>\n",
       "      <td>Fail</td>\n",
       "      <td>1.4</td>\n",
       "      <td>93.444</td>\n",
       "      <td>-36.1</td>\n",
       "    </tr>\n",
       "    <tr>\n",
       "      <th>16424</th>\n",
       "      <td>2008-07-23</td>\n",
       "      <td>53.0</td>\n",
       "      <td>Technician</td>\n",
       "      <td>Divorced</td>\n",
       "      <td>Secondary education</td>\n",
       "      <td>No</td>\n",
       "      <td>2156.0</td>\n",
       "      <td>Yes</td>\n",
       "      <td>No</td>\n",
       "      <td>Portable</td>\n",
       "      <td>671</td>\n",
       "      <td>4</td>\n",
       "      <td>-1</td>\n",
       "      <td>0</td>\n",
       "      <td>Fail</td>\n",
       "      <td>1.4</td>\n",
       "      <td>93.918</td>\n",
       "      <td>-42.7</td>\n",
       "    </tr>\n",
       "    <tr>\n",
       "      <th>13919</th>\n",
       "      <td>2008-07-10</td>\n",
       "      <td>31.0</td>\n",
       "      <td>House keeper</td>\n",
       "      <td>Married</td>\n",
       "      <td>Secondary education</td>\n",
       "      <td>No</td>\n",
       "      <td>0.0</td>\n",
       "      <td>Yes</td>\n",
       "      <td>No</td>\n",
       "      <td>Portable</td>\n",
       "      <td>270</td>\n",
       "      <td>1</td>\n",
       "      <td>-1</td>\n",
       "      <td>0</td>\n",
       "      <td>Fail</td>\n",
       "      <td>1.4</td>\n",
       "      <td>93.918</td>\n",
       "      <td>-42.7</td>\n",
       "    </tr>\n",
       "    <tr>\n",
       "      <th>...</th>\n",
       "      <td>...</td>\n",
       "      <td>...</td>\n",
       "      <td>...</td>\n",
       "      <td>...</td>\n",
       "      <td>...</td>\n",
       "      <td>...</td>\n",
       "      <td>...</td>\n",
       "      <td>...</td>\n",
       "      <td>...</td>\n",
       "      <td>...</td>\n",
       "      <td>...</td>\n",
       "      <td>...</td>\n",
       "      <td>...</td>\n",
       "      <td>...</td>\n",
       "      <td>...</td>\n",
       "      <td>...</td>\n",
       "      <td>...</td>\n",
       "      <td>...</td>\n",
       "    </tr>\n",
       "    <tr>\n",
       "      <th>27669</th>\n",
       "      <td>2008-11-21</td>\n",
       "      <td>31.0</td>\n",
       "      <td>Manager</td>\n",
       "      <td>Married</td>\n",
       "      <td>Graduate studies</td>\n",
       "      <td>No</td>\n",
       "      <td>1402.0</td>\n",
       "      <td>No</td>\n",
       "      <td>No</td>\n",
       "      <td>Portable</td>\n",
       "      <td>104</td>\n",
       "      <td>2</td>\n",
       "      <td>-1</td>\n",
       "      <td>0</td>\n",
       "      <td>Fail</td>\n",
       "      <td>-0.1</td>\n",
       "      <td>93.2</td>\n",
       "      <td>-42.0</td>\n",
       "    </tr>\n",
       "    <tr>\n",
       "      <th>4794</th>\n",
       "      <td>2008-05-21</td>\n",
       "      <td>38.0</td>\n",
       "      <td>Services</td>\n",
       "      <td>Married</td>\n",
       "      <td>Secondary education</td>\n",
       "      <td>No</td>\n",
       "      <td>-224.0</td>\n",
       "      <td>Yes</td>\n",
       "      <td>Yes</td>\n",
       "      <td>Portable</td>\n",
       "      <td>222</td>\n",
       "      <td>1</td>\n",
       "      <td>-1</td>\n",
       "      <td>0</td>\n",
       "      <td>Fail</td>\n",
       "      <td>1.1</td>\n",
       "      <td>93.994</td>\n",
       "      <td>-36.4</td>\n",
       "    </tr>\n",
       "    <tr>\n",
       "      <th>2843</th>\n",
       "      <td>2008-05-14</td>\n",
       "      <td>42.0</td>\n",
       "      <td>Manager</td>\n",
       "      <td>Married</td>\n",
       "      <td>Graduate studies</td>\n",
       "      <td>No</td>\n",
       "      <td>1.0</td>\n",
       "      <td>No</td>\n",
       "      <td>No</td>\n",
       "      <td>Portable</td>\n",
       "      <td>253</td>\n",
       "      <td>1</td>\n",
       "      <td>-1</td>\n",
       "      <td>0</td>\n",
       "      <td>Fail</td>\n",
       "      <td>1.1</td>\n",
       "      <td>93.994</td>\n",
       "      <td>-36.4</td>\n",
       "    </tr>\n",
       "    <tr>\n",
       "      <th>42522</th>\n",
       "      <td>2009-12-18</td>\n",
       "      <td>30.0</td>\n",
       "      <td>Technician</td>\n",
       "      <td>Married</td>\n",
       "      <td>Graduate studies</td>\n",
       "      <td>No</td>\n",
       "      <td>1307.0</td>\n",
       "      <td>No</td>\n",
       "      <td>No</td>\n",
       "      <td>Portable</td>\n",
       "      <td>248</td>\n",
       "      <td>6</td>\n",
       "      <td>-1</td>\n",
       "      <td>0</td>\n",
       "      <td>Fail</td>\n",
       "      <td>-3.0</td>\n",
       "      <td>92.713</td>\n",
       "      <td>-33.0</td>\n",
       "    </tr>\n",
       "    <tr>\n",
       "      <th>44123</th>\n",
       "      <td>2010-07-09</td>\n",
       "      <td>27.0</td>\n",
       "      <td>Technician</td>\n",
       "      <td>Single</td>\n",
       "      <td>Secondary education</td>\n",
       "      <td>No</td>\n",
       "      <td>337.0</td>\n",
       "      <td>No</td>\n",
       "      <td>No</td>\n",
       "      <td>Portable</td>\n",
       "      <td>23</td>\n",
       "      <td>1</td>\n",
       "      <td>-1</td>\n",
       "      <td>0</td>\n",
       "      <td>Fail</td>\n",
       "      <td>-1.7</td>\n",
       "      <td>94.215</td>\n",
       "      <td>-40.3</td>\n",
       "    </tr>\n",
       "  </tbody>\n",
       "</table>\n",
       "<p>36108 rows × 18 columns</p>\n",
       "</div>"
      ],
      "text/plain": [
       "            DATE   AGE  ... IDX_CONSUMER_PRICE IDX_CONSUMER_CONFIDENCE\n",
       "15847 2008-07-21  35.0  ...             93.918                   -42.7\n",
       "7111  2008-05-29  37.0  ...             93.994                   -36.4\n",
       "22312 2008-08-22  52.0  ...             93.444                   -36.1\n",
       "16424 2008-07-23  53.0  ...             93.918                   -42.7\n",
       "13919 2008-07-10  31.0  ...             93.918                   -42.7\n",
       "...          ...   ...  ...                ...                     ...\n",
       "27669 2008-11-21  31.0  ...               93.2                   -42.0\n",
       "4794  2008-05-21  38.0  ...             93.994                   -36.4\n",
       "2843  2008-05-14  42.0  ...             93.994                   -36.4\n",
       "42522 2009-12-18  30.0  ...             92.713                   -33.0\n",
       "44123 2010-07-09  27.0  ...             94.215                   -40.3\n",
       "\n",
       "[36108 rows x 18 columns]"
      ]
     },
     "execution_count": 80,
     "metadata": {},
     "output_type": "execute_result"
    }
   ],
   "source": [
    "X_train.head(1)"
   ]
  },
  {
   "cell_type": "code",
   "execution_count": 84,
   "id": "useful-coordination",
   "metadata": {},
   "outputs": [
    {
     "data": {
      "text/plain": [
       "array(['Graduate studies', 'Secondary education', 'Primary education'],\n",
       "      dtype=object)"
      ]
     },
     "execution_count": 84,
     "metadata": {},
     "output_type": "execute_result"
    }
   ],
   "source": [
    "X_train['EDUCATION'].unique()"
   ]
  },
  {
   "cell_type": "code",
   "execution_count": 85,
   "id": "unlike-tongue",
   "metadata": {},
   "outputs": [
    {
     "data": {
      "text/plain": [
       "array(['Single', 'Married', 'Divorced'], dtype=object)"
      ]
     },
     "execution_count": 85,
     "metadata": {},
     "output_type": "execute_result"
    }
   ],
   "source": [
    "X_train['STATUS'].unique()"
   ]
  },
  {
   "cell_type": "code",
   "execution_count": 86,
   "id": "opponent-blink",
   "metadata": {},
   "outputs": [
    {
     "data": {
      "text/plain": [
       "array(['Fail', 'Success', 'Other'], dtype=object)"
      ]
     },
     "execution_count": 86,
     "metadata": {},
     "output_type": "execute_result"
    }
   ],
   "source": [
    "X_train['RESULT_LAST_CAMPAIGN'].unique()"
   ]
  },
  {
   "cell_type": "code",
   "execution_count": null,
   "id": "liberal-literature",
   "metadata": {},
   "outputs": [],
   "source": []
  }
 ],
 "metadata": {
  "kernelspec": {
   "display_name": "Python 3",
   "language": "python",
   "name": "python3"
  },
  "language_info": {
   "codemirror_mode": {
    "name": "ipython",
    "version": 3
   },
   "file_extension": ".py",
   "mimetype": "text/x-python",
   "name": "python",
   "nbconvert_exporter": "python",
   "pygments_lexer": "ipython3",
   "version": "3.8.1"
  }
 },
 "nbformat": 4,
 "nbformat_minor": 5
}
