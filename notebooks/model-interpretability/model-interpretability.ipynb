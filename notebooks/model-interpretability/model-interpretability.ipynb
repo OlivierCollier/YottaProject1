{
 "cells": [
  {
   "cell_type": "markdown",
   "id": "objective-columbus",
   "metadata": {},
   "source": [
    "# Notebook 3 : interprétabilité du modèle\n",
    "---"
   ]
  },
  {
   "cell_type": "markdown",
   "id": "distinct-collective",
   "metadata": {},
   "source": [
    "Nous nous intéressons dans ce notebook à rendre intelligibles, c'est-à-dire compréhensible par un humain, le modèle Random Forest créé dans le cadre de ce projet.\n",
    "Pour cela, nous allons utiliser plusieurs méthodes :\n",
    "- la *Mean Decrease Impurity Importance* (MDI)\n",
    "- la *Permutation Importance*\n",
    "- le *Tree Interpreter*\n",
    "\n",
    "Ces méthodes sont globales dans le sens où elles servent à expliquer des résultats à l'échelle du modèle (par opposition à l'échelle globale qui explique les résultats d'une prédiction en particulier)"
   ]
  },
  {
   "cell_type": "code",
   "execution_count": 1,
   "id": "peripheral-engineering",
   "metadata": {},
   "outputs": [],
   "source": [
    "import pandas as pd\n",
    "import numpy as np\n",
    "import pickle\n",
    "\n",
    "from sklearn.model_selection import train_test_split\n",
    "from sklearn.pipeline import Pipeline\n",
    "from eli5.sklearn.permutation_importance import PermutationImportance\n",
    "from treeinterpreter import treeinterpreter\n",
    "import matplotlib.pyplot as plt\n",
    "\n",
    "import src.config.column_names as col\n",
    "import src.config.base as base\n",
    "from src.infrastructure.build_dataset import DataBuilderFactory, DataMerger\n",
    "from src.domain.cleaning import MissingValueTreatment\n",
    "from src.domain.build_features import feature_engineering_transformer\n",
    "from interpretability_utilities import plot_features_importance \n",
    "from interpretability_utilities import plot_observation_contribution\n",
    "from interpretability_utilities import plot_scores"
   ]
  },
  {
   "cell_type": "code",
   "execution_count": 2,
   "id": "certified-proposal",
   "metadata": {},
   "outputs": [],
   "source": [
    "from interpretability_utilities import compute_train_test_query_performances"
   ]
  },
  {
   "cell_type": "code",
   "execution_count": 3,
   "id": "identified-sewing",
   "metadata": {},
   "outputs": [],
   "source": [
    "from interpretability_utilities import compute_performances_from_y_pred"
   ]
  },
  {
   "cell_type": "code",
   "execution_count": 4,
   "id": "amino-belarus",
   "metadata": {},
   "outputs": [],
   "source": [
    "from warnings import simplefilter\n",
    "from pandas.core.common import SettingWithCopyWarning\n",
    "\n",
    "# Ignorer les warnings pour améliorer la lisibilité\n",
    "simplefilter(action='ignore', category=FutureWarning)\n",
    "simplefilter(action=\"ignore\", category=SettingWithCopyWarning)"
   ]
  },
  {
   "cell_type": "markdown",
   "id": "falling-fruit",
   "metadata": {},
   "source": [
    "# 1. Chargement des données"
   ]
  },
  {
   "cell_type": "code",
   "execution_count": 5,
   "id": "based-elevation",
   "metadata": {},
   "outputs": [
    {
     "name": "stdout",
     "output_type": "stream",
     "text": [
      "========== Processing client data ==========\n",
      "- Casting types.\n",
      "- Translating French terms to English.\n",
      "- Dropping rows with too many missing values.\n",
      "- Correcting erroneous entries.\n",
      "========== Processing eco data ==========\n",
      "- Casting types.\n",
      "- Translating French terms to English.\n",
      "- Dropping rows with too many missing values.\n",
      "- Imputing missing data.\n",
      "========== Merging datasets ==========\n",
      "========== Separating target from explanatory variables ==========\n"
     ]
    }
   ],
   "source": [
    "# Build datasets\n",
    "\n",
    "client_builder = DataBuilderFactory(base.TRAIN_CLIENT_DATA_PATH, base.config_client_data, base.ALL_CLIENT_DATA_TRANSLATION)\n",
    "client_data = client_builder.transform('client')\n",
    "\n",
    "eco_builder = DataBuilderFactory(base.TRAIN_ECO_DATA_PATH, base.config_eco_data)\n",
    "eco_data = eco_builder.transform('eco')\n",
    "\n",
    "# Merging files to final dataset\n",
    "X, y = DataMerger(client_data, eco_data, col.MERGER_FIELD).transform()\n",
    "y = y.eq('Yes').astype(int)"
   ]
  },
  {
   "cell_type": "code",
   "execution_count": 6,
   "id": "ecological-houston",
   "metadata": {},
   "outputs": [],
   "source": [
    "X_train, X_test, y_train, y_test = train_test_split(X, y, \n",
    "                                                    test_size=0.2, \n",
    "                                                    stratify=y, \n",
    "                                                    random_state=base.SEED)"
   ]
  },
  {
   "cell_type": "code",
   "execution_count": 7,
   "id": "handy-zimbabwe",
   "metadata": {},
   "outputs": [],
   "source": [
    "column_names = ['SOLDE', 'NB_CONTACTS_CAMPAGNE_EN_COURS', 'NB_CONTACTs_CAMPAGNE_EN_COURS', 'ETUDES_SUPERIEURE', 'ETUDES_SECONDAIRES', \n",
    "                'A_PRET_IMMO', 'A_PRET_PERSO', 'A_FAIT_DEFAULT', 'EST_RETRAITE', 'SUCCES_DERNIERE_CAMPAGNE', 'EST_CELIBATAIRE',\n",
    "               'SUP_25_ANS', 'SUP_60_ANS', 'AGE', 'DATE_DERNIER_CONTACT', 'A_UN_PRET', 'NB_JOURS_DEPUIS_DERNIER_CONTACT','TAUX_EMPLOI',\n",
    "                'INDICE_PRIX_CONSO', 'INDICE_CONFIANCE_CONSO']"
   ]
  },
  {
   "cell_type": "markdown",
   "id": "south-webcam",
   "metadata": {},
   "source": [
    "# 2. Chargement du modèle "
   ]
  },
  {
   "cell_type": "code",
   "execution_count": 8,
   "id": "productive-advertising",
   "metadata": {},
   "outputs": [],
   "source": [
    "# Chargement de la pipeline\n",
    "pipeline = pickle.load(open(base.SAVED_MODEL_PATH, \"rb\"))\n",
    "\n",
    "# Extraction du classifieur\n",
    "clf = pipeline.best_estimator_.named_steps['rf_clf']\n",
    "\n",
    "# Extraction des étapes de pre-processing (imputation et feature engineering)\n",
    "transfo_pipeline = pipeline.best_estimator_[:2]"
   ]
  },
  {
   "cell_type": "code",
   "execution_count": 9,
   "id": "featured-directory",
   "metadata": {},
   "outputs": [],
   "source": [
    "# Transformation des datasets d'entrainement et de test\n",
    "X_train_transformed = transfo_pipeline.fit_transform(X_train, y_train)\n",
    "X_train_transformed = pd.DataFrame(X_train_transformed, columns=column_names, index= X_train.index)\n",
    "\n",
    "X_test_transformed = transfo_pipeline.fit_transform(X_test, y_test)\n",
    "X_test_transformed = pd.DataFrame(X_test_transformed, columns=column_names, index= X_test.index)"
   ]
  },
  {
   "cell_type": "code",
   "execution_count": 10,
   "id": "individual-stomach",
   "metadata": {},
   "outputs": [
    {
     "name": "stdout",
     "output_type": "stream",
     "text": [
      "Il y a 20 variables après le feature engineering.\n",
      "\n",
      "Les variables sont les suivantes :\n",
      "['SOLDE', 'NB_CONTACTS_CAMPAGNE_EN_COURS', 'NB_CONTACTs_CAMPAGNE_EN_COURS', 'ETUDES_SUPERIEURE', 'ETUDES_SECONDAIRES', 'A_PRET_IMMO', 'A_PRET_PERSO', 'A_FAIT_DEFAULT', 'EST_RETRAITE', 'SUCCES_DERNIERE_CAMPAGNE', 'EST_CELIBATAIRE', 'SUP_25_ANS', 'SUP_60_ANS', 'AGE', 'DATE_DERNIER_CONTACT', 'A_UN_PRET', 'NB_JOURS_DEPUIS_DERNIER_CONTACT', 'TAUX_EMPLOI', 'INDICE_PRIX_CONSO', 'INDICE_CONFIANCE_CONSO']\n"
     ]
    }
   ],
   "source": [
    "print(f'Il y a {X_train_transformed.shape[1]} variables après le feature engineering.\\n')\n",
    "print('Les variables sont les suivantes :')\n",
    "print(column_names)"
   ]
  },
  {
   "cell_type": "markdown",
   "id": "white-undergraduate",
   "metadata": {},
   "source": [
    "# 3. Importance des variables"
   ]
  },
  {
   "cell_type": "markdown",
   "id": "pleased-abraham",
   "metadata": {},
   "source": [
    "## a. MDI (Mean Decrease Impurity Importance)"
   ]
  },
  {
   "cell_type": "markdown",
   "id": "urban-sydney",
   "metadata": {},
   "source": [
    "La MDI (Mean Decrease Impurity Importance), ou *feature importance*, nous renseigne sur les variables ayant eu le plus de poids dans l'entrainement du modèle. Précisément, la MDI correspond à la diminution de l'impureté des noeuds de l'arbre. Ce critère est ensuite pondérer par le nombre d'arbres de la forêt aléatoire."
   ]
  },
  {
   "cell_type": "code",
   "execution_count": 11,
   "id": "beautiful-attempt",
   "metadata": {},
   "outputs": [],
   "source": [
    "importances = clf.feature_importances_"
   ]
  },
  {
   "cell_type": "code",
   "execution_count": 12,
   "id": "primary-marshall",
   "metadata": {},
   "outputs": [
    {
     "data": {
      "image/png": "[encoded data removed]",
      "text/plain": [
       "<Figure size 720x432 with 1 Axes>"
      ]
     },
     "metadata": {
      "needs_background": "light"
     },
     "output_type": "display_data"
    }
   ],
   "source": [
    "plot_features_importance(X_train_transformed,importances, 8)"
   ]
  },
  {
   "cell_type": "markdown",
   "id": "touched-detroit",
   "metadata": {},
   "source": [
    "La MDI nous montre que parmi les variables les plus importantes pour prédire si le client va souscrire au produit, les données socio-économiques ont une place très importante, en particulier le taux d'emploi et l'indice de confiance des consommateurs. La date de dernier contact avec le client pèse aussi significativement dans la balance."
   ]
  },
  {
   "cell_type": "markdown",
   "id": "surprised-wealth",
   "metadata": {},
   "source": [
    "## b. Permutation importance"
   ]
  },
  {
   "cell_type": "markdown",
   "id": "homeless-ownership",
   "metadata": {},
   "source": [
    "La *permutation importance* (ou *Mean Decrease Accuracy Importance*) est une autre méthode utilisée pour déterminer les variables ayant eu le plus de poids dans la construction des arbres de décision de la forêt aléatoire.\n",
    "\n",
    "Cette méthode calcule l'importance des variables en mesurant comment le score choisi (accuracy, recall,...) décroît quand cette variable n'est pas disponible. Cela montre donc à quel point la variable est précieuse, d'où son importance."
   ]
  },
  {
   "cell_type": "markdown",
   "id": "cordless-appraisal",
   "metadata": {},
   "source": [
    "permutation_imp = PermutationImportance(clf, scoring='average_precision', n_iter=20, random_state=42, cv='prefit', refit=False)"
   ]
  },
  {
   "cell_type": "markdown",
   "id": "impressed-welcome",
   "metadata": {},
   "source": [
    "permutation_imp.fit(X_test_transformed, y_test)"
   ]
  },
  {
   "cell_type": "markdown",
   "id": "bizarre-fourth",
   "metadata": {},
   "source": [
    "plot_features_importance(data=X_test_transformed, importances=permutation_imp.feature_importances_, n_feat=8)"
   ]
  },
  {
   "cell_type": "markdown",
   "id": "regulation-capability",
   "metadata": {},
   "source": [
    "Cette méthode montre également que les variables de type socio-économiques ont un poids plus important que les autres variables.\n",
    "\n",
    "On note ici que la variable WAS_LAST_CAMPAIGN_SUCCESS (indicatrice valant 1 si la campagne précédente avait été un succès) est importante par rapport aux autres."
   ]
  },
  {
   "cell_type": "markdown",
   "id": "catholic-teacher",
   "metadata": {},
   "source": [
    "# 4. Tree interpreter"
   ]
  },
  {
   "cell_type": "markdown",
   "id": "smaller-reservoir",
   "metadata": {},
   "source": [
    "La méthode de *Tree interpreter* fonctionne d'une autre manière : chaque prédiction (feuille de l'arbre, *leaf node*) est décomposée en fonction des contributions des variables (les noeuds) qui mènent à elle. Si une variable n'intervient pas dans le chemin vers la prédiction, cela signifie que cette variable n'a pas été utile, sa contribution est donc nulle. Les contributions sont donc calculées en local (prédiction par prédiction).\n",
    "\n",
    "Pour une forêt aléatoire, les contributions correspondent aux moyennes des contributions obtenues pour chacun des arbres.\n",
    "\n",
    "Puis, pour obtenir l'importance de chaque variable à l'échelle globale du modèle, on fait la moyenne des contributions.  "
   ]
  },
  {
   "cell_type": "code",
   "execution_count": 13,
   "id": "polish-principle",
   "metadata": {},
   "outputs": [],
   "source": [
    "predictions, bias, contributions = treeinterpreter.predict(clf, X_test_transformed)"
   ]
  },
  {
   "cell_type": "code",
   "execution_count": 14,
   "id": "handed-arbor",
   "metadata": {},
   "outputs": [
    {
     "data": {
      "image/png": "[encoded data removed]",
      "text/plain": [
       "<Figure size 720x432 with 1 Axes>"
      ]
     },
     "metadata": {
      "needs_background": "light"
     },
     "output_type": "display_data"
    }
   ],
   "source": [
    "tree_interpreter_importances = contributions[:, :, 0].sum(axis=0)\n",
    "plot_features_importance(data=X_test_transformed, importances=tree_interpreter_importances, n_feat=8)"
   ]
  },
  {
   "cell_type": "markdown",
   "id": "orange-breathing",
   "metadata": {},
   "source": [
    "Nous voyons ici aussi que les variables socio-économiques jouent un grand rôle dans la prédiction, et en particulier le taux d'emploi  qui arrive en 1ère position pour chaque méthode. C'est aussi le cas pour LAST_CONTACT_DATE dont l'importance reste forte quelle que soit la méthode utilisée."
   ]
  },
  {
   "cell_type": "markdown",
   "id": "seventh-device",
   "metadata": {},
   "source": [
    "# 5. Skope rules"
   ]
  },
  {
   "cell_type": "code",
   "execution_count": 15,
   "id": "north-stopping",
   "metadata": {},
   "outputs": [],
   "source": [
    "import six\n",
    "import sys\n",
    "sys.modules['sklearn.externals.six'] = six\n",
    "from skrules import SkopeRules"
   ]
  },
  {
   "cell_type": "code",
   "execution_count": 16,
   "id": "remarkable-estonia",
   "metadata": {},
   "outputs": [],
   "source": [
    "f_predict = lambda x: clf.predict_proba(x)[:,1]"
   ]
  },
  {
   "cell_type": "code",
   "execution_count": 17,
   "id": "continuous-memory",
   "metadata": {},
   "outputs": [
    {
     "data": {
      "text/plain": [
       "SkopeRules(feature_names=Index(['BALANCE', 'NB_CONTACT_CURRENT_CAMPAIGN', 'NB_CONTACT_LAST_CAMPAIGN',\n",
       "       'EDUCATION??', 'EDUCATION_SECONDARY', 'HAS_HOUSING_LOAN',\n",
       "       'HAS_PERSO_LOAN', 'HAS_DEFAULT', 'IS_RETIRED',\n",
       "       'WAS_LAST_CAMPAIGN_SUCCESS', 'IS_SINGLE', 'SUP_25_YEARS_OLD',\n",
       "       'SUP_60_YEARS_OLD', 'AGE', 'LAST_CONTACT_DATE', 'HAS_LOAN',\n",
       "       'NB_DAYS_LAST_CONTACT', 'IDX_EMPLOYMENT_RATE', 'IDX_CONSUMER_PRICE',\n",
       "       'IDX_CONSUMER_CONFIDENCE'],\n",
       "      dtype='object'),\n",
       "           max_depth_duplication=2, max_samples=0.5, n_estimators=50,\n",
       "           random_state=21)"
      ]
     },
     "execution_count": 17,
     "metadata": {},
     "output_type": "execute_result"
    }
   ],
   "source": [
    "skope_rules_clf = SkopeRules(feature_names=X_train_transformed.columns, random_state=21, n_estimators=50,\n",
    "                             #recall_min=0.05, precision_min=0.9, \n",
    "                             max_samples=0.5,\n",
    "                             max_depth_duplication=2, max_depth=3)\n",
    "skope_rules_clf.fit(X_train_transformed, y_train)"
   ]
  },
  {
   "cell_type": "code",
   "execution_count": 18,
   "id": "modular-donor",
   "metadata": {},
   "outputs": [],
   "source": [
    "skope_rules_scoring = skope_rules_clf.score_top_rules(X_test_transformed)\n",
    "random_forest_scoring = f_predict(X_test_transformed)"
   ]
  },
  {
   "cell_type": "code",
   "execution_count": 19,
   "id": "better-parking",
   "metadata": {},
   "outputs": [
    {
     "name": "stdout",
     "output_type": "stream",
     "text": [
      "6 rules have been built with SkopeRules.\n"
     ]
    }
   ],
   "source": [
    "n_rules = len(skope_rules_clf.rules_)\n",
    "print(f'{n_rules} rules have been built with SkopeRules.')"
   ]
  },
  {
   "cell_type": "code",
   "execution_count": 20,
   "id": "preceding-graphics",
   "metadata": {},
   "outputs": [
    {
     "name": "stdout",
     "output_type": "stream",
     "text": [
      "NB_CONTACT_CURRENT_CAMPAIGN <= 0.4333333373069763 and IDX_CONSUMER_CONFIDENCE > -0.09007656387984753 and WAS_LAST_CAMPAIGN_SUCCESS > 0.5\n",
      "\n",
      "IDX_CONSUMER_CONFIDENCE <= 1.4323466420173645 and IDX_CONSUMER_CONFIDENCE > -0.09007656387984753 and WAS_LAST_CAMPAIGN_SUCCESS > 0.5\n",
      "\n",
      "IDX_EMPLOYMENT_RATE <= -0.9621529579162598 and IDX_CONSUMER_PRICE <= -0.3809826448559761 and WAS_LAST_CAMPAIGN_SUCCESS > 0.5\n",
      "\n",
      "IDX_CONSUMER_PRICE > -0.3809826448559761 and NB_CONTACT_LAST_CAMPAIGN <= 0.9666666686534882 and WAS_LAST_CAMPAIGN_SUCCESS > 0.5\n",
      "\n",
      "IDX_CONSUMER_PRICE > -0.4230582192540169 and IDX_CONSUMER_CONFIDENCE > 1.1177124977111816 and WAS_LAST_CAMPAIGN_SUCCESS <= 0.5\n",
      "\n",
      "IDX_CONSUMER_CONFIDENCE <= 1.3308517932891846 and IDX_CONSUMER_CONFIDENCE > 1.1177124977111816 and WAS_LAST_CAMPAIGN_SUCCESS <= 0.5\n",
      "\n"
     ]
    }
   ],
   "source": [
    "rules = skope_rules_clf.rules_\n",
    "\n",
    "for rule in rules:\n",
    "    print(rule[0] + '\\n')"
   ]
  },
  {
   "cell_type": "markdown",
   "id": "significant-priest",
   "metadata": {},
   "source": [
    "Résultats du modèle"
   ]
  },
  {
   "cell_type": "code",
   "execution_count": 21,
   "id": "hydraulic-prime",
   "metadata": {},
   "outputs": [
    {
     "name": "stdout",
     "output_type": "stream",
     "text": [
      "Rule 1:\n"
     ]
    },
    {
     "data": {
      "text/html": [
       "<div>\n",
       "<style scoped>\n",
       "    .dataframe tbody tr th:only-of-type {\n",
       "        vertical-align: middle;\n",
       "    }\n",
       "\n",
       "    .dataframe tbody tr th {\n",
       "        vertical-align: top;\n",
       "    }\n",
       "\n",
       "    .dataframe thead th {\n",
       "        text-align: right;\n",
       "    }\n",
       "</style>\n",
       "<table border=\"1\" class=\"dataframe\">\n",
       "  <thead>\n",
       "    <tr style=\"text-align: right;\">\n",
       "      <th></th>\n",
       "      <th>precision</th>\n",
       "      <th>recall</th>\n",
       "    </tr>\n",
       "  </thead>\n",
       "  <tbody>\n",
       "    <tr>\n",
       "      <th>train_set</th>\n",
       "      <td>0.723380</td>\n",
       "      <td>0.148739</td>\n",
       "    </tr>\n",
       "    <tr>\n",
       "      <th>test_set</th>\n",
       "      <td>0.752101</td>\n",
       "      <td>0.170314</td>\n",
       "    </tr>\n",
       "  </tbody>\n",
       "</table>\n",
       "</div>"
      ],
      "text/plain": [
       "           precision    recall\n",
       "train_set   0.723380  0.148739\n",
       "test_set    0.752101  0.170314"
      ]
     },
     "metadata": {},
     "output_type": "display_data"
    },
    {
     "name": "stdout",
     "output_type": "stream",
     "text": [
      "Rule 2:\n"
     ]
    },
    {
     "data": {
      "text/html": [
       "<div>\n",
       "<style scoped>\n",
       "    .dataframe tbody tr th:only-of-type {\n",
       "        vertical-align: middle;\n",
       "    }\n",
       "\n",
       "    .dataframe tbody tr th {\n",
       "        vertical-align: top;\n",
       "    }\n",
       "\n",
       "    .dataframe thead th {\n",
       "        text-align: right;\n",
       "    }\n",
       "</style>\n",
       "<table border=\"1\" class=\"dataframe\">\n",
       "  <thead>\n",
       "    <tr style=\"text-align: right;\">\n",
       "      <th></th>\n",
       "      <th>precision</th>\n",
       "      <th>recall</th>\n",
       "    </tr>\n",
       "  </thead>\n",
       "  <tbody>\n",
       "    <tr>\n",
       "      <th>train_set</th>\n",
       "      <td>0.775665</td>\n",
       "      <td>0.097097</td>\n",
       "    </tr>\n",
       "    <tr>\n",
       "      <th>test_set</th>\n",
       "      <td>0.765517</td>\n",
       "      <td>0.105614</td>\n",
       "    </tr>\n",
       "  </tbody>\n",
       "</table>\n",
       "</div>"
      ],
      "text/plain": [
       "           precision    recall\n",
       "train_set   0.775665  0.097097\n",
       "test_set    0.765517  0.105614"
      ]
     },
     "metadata": {},
     "output_type": "display_data"
    },
    {
     "name": "stdout",
     "output_type": "stream",
     "text": [
      "Rule 3:\n"
     ]
    },
    {
     "data": {
      "text/html": [
       "<div>\n",
       "<style scoped>\n",
       "    .dataframe tbody tr th:only-of-type {\n",
       "        vertical-align: middle;\n",
       "    }\n",
       "\n",
       "    .dataframe tbody tr th {\n",
       "        vertical-align: top;\n",
       "    }\n",
       "\n",
       "    .dataframe thead th {\n",
       "        text-align: right;\n",
       "    }\n",
       "</style>\n",
       "<table border=\"1\" class=\"dataframe\">\n",
       "  <thead>\n",
       "    <tr style=\"text-align: right;\">\n",
       "      <th></th>\n",
       "      <th>precision</th>\n",
       "      <th>recall</th>\n",
       "    </tr>\n",
       "  </thead>\n",
       "  <tbody>\n",
       "    <tr>\n",
       "      <th>train_set</th>\n",
       "      <td>0.576023</td>\n",
       "      <td>0.093765</td>\n",
       "    </tr>\n",
       "    <tr>\n",
       "      <th>test_set</th>\n",
       "      <td>0.672515</td>\n",
       "      <td>0.109420</td>\n",
       "    </tr>\n",
       "  </tbody>\n",
       "</table>\n",
       "</div>"
      ],
      "text/plain": [
       "           precision    recall\n",
       "train_set   0.576023  0.093765\n",
       "test_set    0.672515  0.109420"
      ]
     },
     "metadata": {},
     "output_type": "display_data"
    },
    {
     "name": "stdout",
     "output_type": "stream",
     "text": [
      "Rule 4:\n"
     ]
    },
    {
     "data": {
      "text/html": [
       "<div>\n",
       "<style scoped>\n",
       "    .dataframe tbody tr th:only-of-type {\n",
       "        vertical-align: middle;\n",
       "    }\n",
       "\n",
       "    .dataframe tbody tr th {\n",
       "        vertical-align: top;\n",
       "    }\n",
       "\n",
       "    .dataframe thead th {\n",
       "        text-align: right;\n",
       "    }\n",
       "</style>\n",
       "<table border=\"1\" class=\"dataframe\">\n",
       "  <thead>\n",
       "    <tr style=\"text-align: right;\">\n",
       "      <th></th>\n",
       "      <th>precision</th>\n",
       "      <th>recall</th>\n",
       "    </tr>\n",
       "  </thead>\n",
       "  <tbody>\n",
       "    <tr>\n",
       "      <th>train_set</th>\n",
       "      <td>0.790323</td>\n",
       "      <td>0.081628</td>\n",
       "    </tr>\n",
       "    <tr>\n",
       "      <th>test_set</th>\n",
       "      <td>0.783333</td>\n",
       "      <td>0.089439</td>\n",
       "    </tr>\n",
       "  </tbody>\n",
       "</table>\n",
       "</div>"
      ],
      "text/plain": [
       "           precision    recall\n",
       "train_set   0.790323  0.081628\n",
       "test_set    0.783333  0.089439"
      ]
     },
     "metadata": {},
     "output_type": "display_data"
    },
    {
     "name": "stdout",
     "output_type": "stream",
     "text": [
      "Rule 5:\n"
     ]
    },
    {
     "data": {
      "text/html": [
       "<div>\n",
       "<style scoped>\n",
       "    .dataframe tbody tr th:only-of-type {\n",
       "        vertical-align: middle;\n",
       "    }\n",
       "\n",
       "    .dataframe tbody tr th {\n",
       "        vertical-align: top;\n",
       "    }\n",
       "\n",
       "    .dataframe thead th {\n",
       "        text-align: right;\n",
       "    }\n",
       "</style>\n",
       "<table border=\"1\" class=\"dataframe\">\n",
       "  <thead>\n",
       "    <tr style=\"text-align: right;\">\n",
       "      <th></th>\n",
       "      <th>precision</th>\n",
       "      <th>recall</th>\n",
       "    </tr>\n",
       "  </thead>\n",
       "  <tbody>\n",
       "    <tr>\n",
       "      <th>train_set</th>\n",
       "      <td>0.500000</td>\n",
       "      <td>0.032128</td>\n",
       "    </tr>\n",
       "    <tr>\n",
       "      <th>test_set</th>\n",
       "      <td>0.509804</td>\n",
       "      <td>0.024738</td>\n",
       "    </tr>\n",
       "  </tbody>\n",
       "</table>\n",
       "</div>"
      ],
      "text/plain": [
       "           precision    recall\n",
       "train_set   0.500000  0.032128\n",
       "test_set    0.509804  0.024738"
      ]
     },
     "metadata": {},
     "output_type": "display_data"
    },
    {
     "name": "stdout",
     "output_type": "stream",
     "text": [
      "Rule 6:\n"
     ]
    },
    {
     "data": {
      "text/html": [
       "<div>\n",
       "<style scoped>\n",
       "    .dataframe tbody tr th:only-of-type {\n",
       "        vertical-align: middle;\n",
       "    }\n",
       "\n",
       "    .dataframe tbody tr th {\n",
       "        vertical-align: top;\n",
       "    }\n",
       "\n",
       "    .dataframe thead th {\n",
       "        text-align: right;\n",
       "    }\n",
       "</style>\n",
       "<table border=\"1\" class=\"dataframe\">\n",
       "  <thead>\n",
       "    <tr style=\"text-align: right;\">\n",
       "      <th></th>\n",
       "      <th>precision</th>\n",
       "      <th>recall</th>\n",
       "    </tr>\n",
       "  </thead>\n",
       "  <tbody>\n",
       "    <tr>\n",
       "      <th>train_set</th>\n",
       "      <td>0.500000</td>\n",
       "      <td>0.032128</td>\n",
       "    </tr>\n",
       "    <tr>\n",
       "      <th>test_set</th>\n",
       "      <td>0.509804</td>\n",
       "      <td>0.024738</td>\n",
       "    </tr>\n",
       "  </tbody>\n",
       "</table>\n",
       "</div>"
      ],
      "text/plain": [
       "           precision    recall\n",
       "train_set   0.500000  0.032128\n",
       "test_set    0.509804  0.024738"
      ]
     },
     "metadata": {},
     "output_type": "display_data"
    }
   ],
   "source": [
    "for i in range(n_rules):\n",
    "    print(f'Rule {i + 1}:')\n",
    "    display(compute_train_test_query_performances(X_train_transformed, y_train,\n",
    "                                                  X_test_transformed, y_test,\n",
    "                                                  skope_rules_clf.rules_[i][0]))"
   ]
  },
  {
   "cell_type": "code",
   "execution_count": 22,
   "id": "embedded-phrase",
   "metadata": {},
   "outputs": [],
   "source": [
    "%matplotlib inline"
   ]
  },
  {
   "cell_type": "code",
   "execution_count": 23,
   "id": "fossil-service",
   "metadata": {},
   "outputs": [
    {
     "data": {
      "image/png": "[encoded data removed]",
      "text/plain": [
       "<Figure size 864x360 with 2 Axes>"
      ]
     },
     "metadata": {
      "needs_background": "light"
     },
     "output_type": "display_data"
    }
   ],
   "source": [
    "plot_scores(y_test, scores_with_line=[random_forest_scoring], scores_with_points=[skope_rules_scoring])"
   ]
  },
  {
   "cell_type": "code",
   "execution_count": 24,
   "id": "starting-island",
   "metadata": {},
   "outputs": [
    {
     "name": "stdout",
     "output_type": "stream",
     "text": [
      "The performances reached with 2 discovered rules are the following:\n"
     ]
    },
    {
     "data": {
      "text/html": [
       "<div>\n",
       "<style scoped>\n",
       "    .dataframe tbody tr th:only-of-type {\n",
       "        vertical-align: middle;\n",
       "    }\n",
       "\n",
       "    .dataframe tbody tr th {\n",
       "        vertical-align: top;\n",
       "    }\n",
       "\n",
       "    .dataframe thead th {\n",
       "        text-align: right;\n",
       "    }\n",
       "</style>\n",
       "<table border=\"1\" class=\"dataframe\">\n",
       "  <thead>\n",
       "    <tr style=\"text-align: right;\">\n",
       "      <th></th>\n",
       "      <th>precision</th>\n",
       "      <th>recall</th>\n",
       "    </tr>\n",
       "  </thead>\n",
       "  <tbody>\n",
       "    <tr>\n",
       "      <th>test_set</th>\n",
       "      <td>0.752101</td>\n",
       "      <td>0.170314</td>\n",
       "    </tr>\n",
       "  </tbody>\n",
       "</table>\n",
       "</div>"
      ],
      "text/plain": [
       "          precision    recall\n",
       "test_set   0.752101  0.170314"
      ]
     },
     "execution_count": 24,
     "metadata": {},
     "output_type": "execute_result"
    }
   ],
   "source": [
    "n_rule_chosen = 2\n",
    "y_pred = skope_rules_clf.predict_top_rules(X_test_transformed, n_rule_chosen)\n",
    "\n",
    "print(f'The performances reached with {n_rule_chosen} discovered rules are the following:')\n",
    "compute_performances_from_y_pred(y_test, y_pred, 'test_set')"
   ]
  }
 ],
 "metadata": {
  "kernelspec": {
   "display_name": "Python 3",
   "language": "python",
   "name": "python3"
  },
  "language_info": {
   "codemirror_mode": {
    "name": "ipython",
    "version": 3
   },
   "file_extension": ".py",
   "mimetype": "text/x-python",
   "name": "python",
   "nbconvert_exporter": "python",
   "pygments_lexer": "ipython3",
   "version": "3.8.1"
  }
 },
 "nbformat": 4,
 "nbformat_minor": 5
}
