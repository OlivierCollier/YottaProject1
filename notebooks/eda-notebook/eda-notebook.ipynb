{
 "cells": [
  {
   "cell_type": "markdown",
   "id": "subjective-midwest",
   "metadata": {},
   "source": [
    "# Prédiction de l'appétence à un produit bancaire\n",
    "\n",
    "Une grande banque offre à ses clients la possibilité de déposer la somme de leur choix sur un compte bloqué pour une période de temps déterminée. En contrepartie, les souscripteurs reçoivent des versements réguliers, pour un rendement habituellement plus avantageux qu'un simple placement sur compte-épargne. Ce produit s'appelle un dépôt à terme.\n",
    "\n",
    "Pour des raisons évidentes, et aussi parce que les dépôts à terme inscrits au bilan permettent d'augmenter le montant des capitaux propres, cette banque a intérêt à vendre ces produits à ses clients. Elle a donc effectué des campagnes de marketing par téléphone pour enregistrer de nouvelles souscriptions.\n",
    "\n",
    "Cependant, les campagnes de démarchage téléphonique peuvent être perçues par les consommateurs comme intrusives et détériorer l'image de marque de la banque. D'autre part, ces campagnes ont bien sûr un coût, puisqu'il faut payer des commerciaux. Il est donc préférable de limiter le nombre d'appels en ciblant au mieux les clients susceptibles de souscrire un dépôt à terme.\n",
    "\n",
    "Dans cette perspective, nous disposons d'un jeu de données collectées lors de précédentes campagnes de démarchage, ainsi que de données extérieures à la banque, relatives au contexte économique et social. Nous allons maintenant commencer l'étude en chargeant ces données."
   ]
  },
  {
   "cell_type": "code",
   "execution_count": 1,
   "id": "found-ontario",
   "metadata": {},
   "outputs": [],
   "source": [
    "import eda_utilities as eda\n",
    "\n",
    "eda.settings()\n",
    "initial_data = eda.load_initial_data()"
   ]
  },
  {
   "cell_type": "markdown",
   "id": "mental-dublin",
   "metadata": {},
   "source": [
    "Chaque ligne de ce tableau correspond au dernier appel d'une série de contacts téléphoniques relatifs à un client. Certaines caractéristiques de l'appel et du client ont été enregistrées, ainsi que le résultat sous forme de la variable HAS_SUBSCRIBED, qui vaut \"Yes\" si le client a souscrit, et \"No\" sinon. C'est donc cette variable qu'il convient de prédire."
   ]
  },
  {
   "cell_type": "markdown",
   "id": "interesting-accountability",
   "metadata": {
    "variables": {
     "'%.2f' % (100*initial_data.SUBSCRIPTION.eq('Yes').mean())": "11.64",
     "initial_data.SUBSCRIPTION.eq('Yes').sum()": "5253",
     "initial_data.shape[0]": "45136"
    }
   },
   "source": [
    "## Caractéristiques de la cible HAS_SUBSCRIBED\n",
    "\n",
    "La cible est donc une variable binaire. Dans cet échantillon de {{initial_data.shape[0]}} observations, une large proportion concerne des refus, puisque seuls {{initial_data.SUBSCRIPTION.eq('Yes').sum()}} clients ont souscrit, soit environ {{'%.2f' % (100*initial_data.SUBSCRIPTION.eq('Yes').mean())}}% des clients contactés. Les données disponibles sont donc largement déséquilibrées, ce dont nous tiendrons compte lors de la recherche du modèle optimal."
   ]
  },
  {
   "cell_type": "code",
   "execution_count": 2,
   "id": "polished-means",
   "metadata": {},
   "outputs": [
    {
     "data": {
      "image/png": "[encoded data removed]",
      "text/plain": [
       "<Figure size 432x288 with 1 Axes>"
      ]
     },
     "metadata": {
      "needs_background": "light"
     },
     "output_type": "display_data"
    }
   ],
   "source": [
    "eda.illustrate_target(initial_data)"
   ]
  },
  {
   "cell_type": "markdown",
   "id": "hindu-cincinnati",
   "metadata": {},
   "source": [
    "Dans la suite, on considérera HAS_SUBSCRIBED comme une variable binaire 0-1. Nous allons maintenant étudier les autres variables disponibles, et discuter de leur lien avec la cible."
   ]
  },
  {
   "cell_type": "code",
   "execution_count": 3,
   "id": "grateful-quick",
   "metadata": {},
   "outputs": [],
   "source": [
    "eda.make_has_subscribed_binary(initial_data)"
   ]
  },
  {
   "cell_type": "markdown",
   "id": "olympic-field",
   "metadata": {},
   "source": [
    "## Lien entre la variable ACCOUNT_BALANCE et la cible"
   ]
  },
  {
   "cell_type": "markdown",
   "id": "described-mixture",
   "metadata": {
    "variables": {
     "initial_data.loc[(initial_data.BALANCE.le(-1)), 'SUBSCRIPTION'].sum()": "210",
     "initial_data['BALANCE'].eq(0).sum()": "3512"
    }
   },
   "source": [
    "La propension à acheter un produit bancaire semble intuitivement lié à la quantité d'argent disponible, donc probablement au solde du compte bancaire au moment de la décision. La variable ACCOUNT_BALANCE représente cette quantité, à la différence que certaines valeurs ne sont pas précisément connues : 0 peut ainsi véritablement désigner un compte vide, ou seulement l'absence d'argent disponible, c'est-à-dire un solde négatif (cette information a été obtenue auprès de la banque). Cette situation concerne {{initial_data['BALANCE'].eq(0).sum()}} clients, ce qui est une part relativement faible de l'échantillon.\n",
    "\n",
    "D'autre part, on peut noter un fait a priori étonnant : une valeur strictement négative de ACCOUNT_BALANCE n'implique pas un refus de souscription. En effet, {{initial_data.loc[(initial_data.BALANCE.le(-1)), 'SUBSCRIPTION'].sum()}} ont souscrit malgré un solde négatif. Cela suggère que ACCOUNT_BALANCE représente plutôt le solde d'un compte courant qu'une réelle épargne disponible.\n",
    "\n",
    "Malgré tout, on observe une corrélation significativement non-nulle avec la cible : plus ACCOUNT_BALANCE augmente, plus le client est susceptible de souscrire. La relation semble non-linéaire, car le rho de Spearman est deux fois plus grand que la corrélation de Pearson."
   ]
  },
  {
   "cell_type": "code",
   "execution_count": 4,
   "id": "plastic-thanks",
   "metadata": {},
   "outputs": [
    {
     "data": {
      "text/html": [
       "<div>\n",
       "<style scoped>\n",
       "    .dataframe tbody tr th:only-of-type {\n",
       "        vertical-align: middle;\n",
       "    }\n",
       "\n",
       "    .dataframe tbody tr th {\n",
       "        vertical-align: top;\n",
       "    }\n",
       "\n",
       "    .dataframe thead th {\n",
       "        text-align: right;\n",
       "    }\n",
       "</style>\n",
       "<table border=\"1\" class=\"dataframe\">\n",
       "  <thead>\n",
       "    <tr style=\"text-align: right;\">\n",
       "      <th></th>\n",
       "      <th></th>\n",
       "    </tr>\n",
       "  </thead>\n",
       "  <tbody>\n",
       "    <tr>\n",
       "      <th>Corrélation de Pearson</th>\n",
       "      <td>0.053101</td>\n",
       "    </tr>\n",
       "    <tr>\n",
       "      <th>Rho de Spearman</th>\n",
       "      <td>0.100324</td>\n",
       "    </tr>\n",
       "  </tbody>\n",
       "</table>\n",
       "</div>"
      ],
      "text/plain": [
       "                                \n",
       "Corrélation de Pearson  0.053101\n",
       "Rho de Spearman         0.100324"
      ]
     },
     "metadata": {},
     "output_type": "display_data"
    }
   ],
   "source": [
    "eda.correlation_target_balance(initial_data)"
   ]
  },
  {
   "cell_type": "markdown",
   "id": "seventh-nursing",
   "metadata": {
    "variables": {
     "initial_data.loc[initial_data['BALANCE'].ge(10000), 'BALANCE'].count()": "829",
     "initial_data.loc[initial_data['BALANCE'].ge(50000), 'BALANCE'].count()": "18",
     "initial_data['BALANCE'].median()": "447.5"
    }
   },
   "source": [
    "En étudiant plus précisément la distribution de ACCOUNT_BALANCE, nous nous sommes alors rendu compte que cette variable possède un grand nombre d'outliers. En effet, si la médiane de cette variable est {{initial_data['BALANCE'].median()}}, on constate des valeurs supérieures à 10000 chez {{initial_data.loc[initial_data['BALANCE'].ge(10000), 'BALANCE'].count()}} clients, et supérieures à 50000 chez {{initial_data.loc[initial_data['BALANCE'].ge(50000), 'BALANCE'].count()}} clients.\n",
    "\n",
    "Cependant, si on applique un clip sur les valeurs supérieures à 4000, on observe que la corrélation est nettement plus élevée (4000 est approximativement le seuil qui maximise la corrélation)."
   ]
  },
  {
   "cell_type": "code",
   "execution_count": 5,
   "id": "annual-penguin",
   "metadata": {},
   "outputs": [
    {
     "data": {
      "text/html": [
       "<div>\n",
       "<style scoped>\n",
       "    .dataframe tbody tr th:only-of-type {\n",
       "        vertical-align: middle;\n",
       "    }\n",
       "\n",
       "    .dataframe tbody tr th {\n",
       "        vertical-align: top;\n",
       "    }\n",
       "\n",
       "    .dataframe thead th {\n",
       "        text-align: right;\n",
       "    }\n",
       "</style>\n",
       "<table border=\"1\" class=\"dataframe\">\n",
       "  <thead>\n",
       "    <tr style=\"text-align: right;\">\n",
       "      <th></th>\n",
       "      <th></th>\n",
       "    </tr>\n",
       "  </thead>\n",
       "  <tbody>\n",
       "    <tr>\n",
       "      <th>Corrélation de Pearson</th>\n",
       "      <td>0.089934</td>\n",
       "    </tr>\n",
       "    <tr>\n",
       "      <th>Rho de Spearman</th>\n",
       "      <td>0.100503</td>\n",
       "    </tr>\n",
       "  </tbody>\n",
       "</table>\n",
       "</div>"
      ],
      "text/plain": [
       "                                \n",
       "Corrélation de Pearson  0.089934\n",
       "Rho de Spearman         0.100503"
      ]
     },
     "metadata": {},
     "output_type": "display_data"
    }
   ],
   "source": [
    "eda.correlation_target_balance(initial_data, upper_clip=4000, lower_clip=-4000)"
   ]
  },
  {
   "cell_type": "markdown",
   "id": "floating-river",
   "metadata": {},
   "source": [
    "Nous avons donc décidé de conserver cette transformation de ACCOUNT_BALANCE. (Notons que les outliers négatifs ne semblent pas avoir la même influence, mais que nous les avons tout de même traités de manière symétrique.)"
   ]
  },
  {
   "cell_type": "code",
   "execution_count": 6,
   "id": "federal-interview",
   "metadata": {},
   "outputs": [],
   "source": [
    "eda.clip_balance(initial_data, upper_clip=4000, lower_clip=-4000)"
   ]
  },
  {
   "cell_type": "markdown",
   "id": "southern-announcement",
   "metadata": {},
   "source": [
    "On voit alors sur un violon-plot que les distributions de ACCOUNT_BALANCE sont différentes selon que HAS_SUBSCRIBED vaut 0 ou 1, ce qui est confirmé par un test de Kolmogorov-Smirnov."
   ]
  },
  {
   "cell_type": "code",
   "execution_count": 7,
   "id": "stretch-acoustic",
   "metadata": {},
   "outputs": [
    {
     "data": {
      "image/png": "[encoded data removed]",
      "text/plain": [
       "<Figure size 360x360 with 1 Axes>"
      ]
     },
     "metadata": {
      "needs_background": "light"
     },
     "output_type": "display_data"
    },
    {
     "name": "stdout",
     "output_type": "stream",
     "text": [
      "La p-valeur du test de Kolmogorov-Smirnov est de 3.5537234126602085e-68 : ACCOUNT_BALANCE n'a donc pas la même distribution selon que la cible vaut 0 ou 1.\n"
     ]
    }
   ],
   "source": [
    "eda.plot_balance_knowing_target(initial_data)\n",
    "eda.test_independence_between_balance_and_target(initial_data)"
   ]
  },
  {
   "cell_type": "markdown",
   "id": "turned-boost",
   "metadata": {},
   "source": [
    "Au final, si ACCOUNT_BALANCE est bien lié à la cible, il semble être un faible prédicteur."
   ]
  },
  {
   "cell_type": "markdown",
   "id": "contrary-ballot",
   "metadata": {},
   "source": [
    "## Lien entre la variable JOB_TYPE et la cible"
   ]
  },
  {
   "cell_type": "markdown",
   "id": "uniform-cornell",
   "metadata": {},
   "source": [
    "On doit alors chercher un autre marqueur de l'aisance financière des clients. La variable JOB_TYPE semble indiquée, puisque la catégorie professionnelle est corrélée au niveau de vie.\n",
    "\n",
    "Tout d'abord, calculons les différences de taux de souscription selon la catégorie professionnelle."
   ]
  },
  {
   "cell_type": "code",
   "execution_count": 8,
   "id": "mediterranean-responsibility",
   "metadata": {},
   "outputs": [
    {
     "data": {
      "text/html": [
       "<div>\n",
       "<style scoped>\n",
       "    .dataframe tbody tr th:only-of-type {\n",
       "        vertical-align: middle;\n",
       "    }\n",
       "\n",
       "    .dataframe tbody tr th {\n",
       "        vertical-align: top;\n",
       "    }\n",
       "\n",
       "    .dataframe thead th {\n",
       "        text-align: right;\n",
       "    }\n",
       "</style>\n",
       "<table border=\"1\" class=\"dataframe\">\n",
       "  <thead>\n",
       "    <tr style=\"text-align: right;\">\n",
       "      <th></th>\n",
       "      <th>Number of subscriptions</th>\n",
       "      <th>Number of clients</th>\n",
       "      <th>Proportion of subscription</th>\n",
       "    </tr>\n",
       "    <tr>\n",
       "      <th>JOB_TYPE</th>\n",
       "      <th></th>\n",
       "      <th></th>\n",
       "      <th></th>\n",
       "    </tr>\n",
       "  </thead>\n",
       "  <tbody>\n",
       "    <tr>\n",
       "      <th>Blue-collar worker</th>\n",
       "      <td>705</td>\n",
       "      <td>9726</td>\n",
       "      <td>0.072486</td>\n",
       "    </tr>\n",
       "    <tr>\n",
       "      <th>Entrepreneur</th>\n",
       "      <td>120</td>\n",
       "      <td>1483</td>\n",
       "      <td>0.080917</td>\n",
       "    </tr>\n",
       "    <tr>\n",
       "      <th>House keeper</th>\n",
       "      <td>109</td>\n",
       "      <td>1239</td>\n",
       "      <td>0.087974</td>\n",
       "    </tr>\n",
       "    <tr>\n",
       "      <th>Services</th>\n",
       "      <td>367</td>\n",
       "      <td>4148</td>\n",
       "      <td>0.088476</td>\n",
       "    </tr>\n",
       "    <tr>\n",
       "      <th>Technician</th>\n",
       "      <td>833</td>\n",
       "      <td>7586</td>\n",
       "      <td>0.109808</td>\n",
       "    </tr>\n",
       "    <tr>\n",
       "      <th>Freelance</th>\n",
       "      <td>186</td>\n",
       "      <td>1577</td>\n",
       "      <td>0.117945</td>\n",
       "    </tr>\n",
       "    <tr>\n",
       "      <th>Admin</th>\n",
       "      <td>627</td>\n",
       "      <td>5161</td>\n",
       "      <td>0.121488</td>\n",
       "    </tr>\n",
       "    <tr>\n",
       "      <th>Manager</th>\n",
       "      <td>1295</td>\n",
       "      <td>9445</td>\n",
       "      <td>0.137110</td>\n",
       "    </tr>\n",
       "    <tr>\n",
       "      <th>Unemployed</th>\n",
       "      <td>201</td>\n",
       "      <td>1301</td>\n",
       "      <td>0.154497</td>\n",
       "    </tr>\n",
       "    <tr>\n",
       "      <th>Retired</th>\n",
       "      <td>510</td>\n",
       "      <td>2252</td>\n",
       "      <td>0.226465</td>\n",
       "    </tr>\n",
       "    <tr>\n",
       "      <th>Student</th>\n",
       "      <td>266</td>\n",
       "      <td>932</td>\n",
       "      <td>0.285408</td>\n",
       "    </tr>\n",
       "  </tbody>\n",
       "</table>\n",
       "</div>"
      ],
      "text/plain": [
       "                    Number of subscriptions  Number of clients  \\\n",
       "JOB_TYPE                                                         \n",
       "Blue-collar worker                      705               9726   \n",
       "Entrepreneur                            120               1483   \n",
       "House keeper                            109               1239   \n",
       "Services                                367               4148   \n",
       "Technician                              833               7586   \n",
       "Freelance                               186               1577   \n",
       "Admin                                   627               5161   \n",
       "Manager                                1295               9445   \n",
       "Unemployed                              201               1301   \n",
       "Retired                                 510               2252   \n",
       "Student                                 266                932   \n",
       "\n",
       "                    Proportion of subscription  \n",
       "JOB_TYPE                                        \n",
       "Blue-collar worker                    0.072486  \n",
       "Entrepreneur                          0.080917  \n",
       "House keeper                          0.087974  \n",
       "Services                              0.088476  \n",
       "Technician                            0.109808  \n",
       "Freelance                             0.117945  \n",
       "Admin                                 0.121488  \n",
       "Manager                               0.137110  \n",
       "Unemployed                            0.154497  \n",
       "Retired                               0.226465  \n",
       "Student                               0.285408  "
      ]
     },
     "metadata": {},
     "output_type": "display_data"
    }
   ],
   "source": [
    "eda.target_by_job_type(initial_data)"
   ]
  },
  {
   "cell_type": "markdown",
   "id": "quick-compilation",
   "metadata": {},
   "source": [
    "Les proportions semblent très différentes, et un test du chi-2 confirme que ces différences ne sont pas seulement statistiques, ni dues à des différences de taille d'échantillons."
   ]
  },
  {
   "cell_type": "code",
   "execution_count": 9,
   "id": "planned-injection",
   "metadata": {},
   "outputs": [
    {
     "name": "stdout",
     "output_type": "stream",
     "text": [
      "La p-valeur du test du chi2 d'indépendance est de 1.7149963803162842e-171 : JOB_TYPE n'est donc pas indépendant de la cible.\n"
     ]
    }
   ],
   "source": [
    "eda.test_independence_between_target_and_job_type(initial_data)"
   ]
  },
  {
   "cell_type": "markdown",
   "id": "prescription-ivory",
   "metadata": {
    "variables": {
     "initial_data.JOB_TYPE.isnull().sum()": "286"
    }
   },
   "source": [
    "Nous remarquons ensuite que les étudiants et les retraités sont les deux classes les plus susceptibles de souscrire, suivis par les chômeurs. Ces catégories ne sont pourtant pas normalement associées à une plus grande aisance financière. Nous donnerons une explication dans les prochaines sections.\n",
    "\n",
    "Quoi qu'il en soit, cette variable contient de l'information sur la cible, et il faut maintenant l'encoder. Or il semble problématique d'utiliser le one-hot encoding en raison du grand nombre de catégories, d'autant que certaines catégories semblent proches (\"Entrepreneur\", \"House keeper\" et \"Services\" par exemple). D'autre part, le target encoding donne un résultat peu convaincant (corrélation de 0.10 environ). Nous réservons donc notre décision pour le moment.\n",
    "\n",
    "Enfin, la variable JOB_TYPE contient {{initial_data.JOB_TYPE.isnull().sum()}} valeurs manquantes, que nous proposons de simplement supprimer."
   ]
  },
  {
   "cell_type": "code",
   "execution_count": 10,
   "id": "anonymous-calcium",
   "metadata": {},
   "outputs": [],
   "source": [
    "eda.remove_missing_values_for_job_type(initial_data)"
   ]
  },
  {
   "cell_type": "markdown",
   "id": "civic-mineral",
   "metadata": {},
   "source": [
    "## Lien entre la variable MARITAL_STATUS et la cible"
   ]
  },
  {
   "cell_type": "markdown",
   "id": "colonial-congress",
   "metadata": {
    "variables": {
     "initial_data.STATUS.isnull().sum()": "1128"
    }
   },
   "source": [
    "La variable MARITAL_STATUS est une variable catégorielle. Elle possède {{initial_data.STATUS.isnull().sum()}} valeurs manquantes et est répartie de la manière suivante :"
   ]
  },
  {
   "cell_type": "code",
   "execution_count": 11,
   "id": "opened-investment",
   "metadata": {},
   "outputs": [
    {
     "data": {
      "image/png": "[encoded data removed]",
      "text/plain": [
       "<Figure size 432x288 with 1 Axes>"
      ]
     },
     "metadata": {
      "needs_background": "light"
     },
     "output_type": "display_data"
    }
   ],
   "source": [
    "eda.illustrate_status(initial_data)"
   ]
  },
  {
   "cell_type": "markdown",
   "id": "experimental-dividend",
   "metadata": {},
   "source": [
    "Ces catégories ont des comportements différents par rapport au produit proposé, ce qui peut être confirmé par un test d'indépendance du chi2 :"
   ]
  },
  {
   "cell_type": "code",
   "execution_count": 12,
   "id": "sixth-travel",
   "metadata": {},
   "outputs": [
    {
     "data": {
      "text/html": [
       "<div>\n",
       "<style scoped>\n",
       "    .dataframe tbody tr th:only-of-type {\n",
       "        vertical-align: middle;\n",
       "    }\n",
       "\n",
       "    .dataframe tbody tr th {\n",
       "        vertical-align: top;\n",
       "    }\n",
       "\n",
       "    .dataframe thead th {\n",
       "        text-align: right;\n",
       "    }\n",
       "</style>\n",
       "<table border=\"1\" class=\"dataframe\">\n",
       "  <thead>\n",
       "    <tr style=\"text-align: right;\">\n",
       "      <th></th>\n",
       "      <th>Number of subscriptions</th>\n",
       "      <th>Number of clients</th>\n",
       "      <th>Proportion of subscription</th>\n",
       "    </tr>\n",
       "    <tr>\n",
       "      <th>STATUS</th>\n",
       "      <th></th>\n",
       "      <th></th>\n",
       "      <th></th>\n",
       "    </tr>\n",
       "  </thead>\n",
       "  <tbody>\n",
       "    <tr>\n",
       "      <th>Married</th>\n",
       "      <td>2301</td>\n",
       "      <td>24822</td>\n",
       "      <td>0.092700</td>\n",
       "    </tr>\n",
       "    <tr>\n",
       "      <th>Divorced</th>\n",
       "      <td>481</td>\n",
       "      <td>4638</td>\n",
       "      <td>0.103708</td>\n",
       "    </tr>\n",
       "    <tr>\n",
       "      <th>Single</th>\n",
       "      <td>1843</td>\n",
       "      <td>12356</td>\n",
       "      <td>0.149158</td>\n",
       "    </tr>\n",
       "  </tbody>\n",
       "</table>\n",
       "</div>"
      ],
      "text/plain": [
       "          Number of subscriptions  Number of clients  \\\n",
       "STATUS                                                 \n",
       "Married                      2301              24822   \n",
       "Divorced                      481               4638   \n",
       "Single                       1843              12356   \n",
       "\n",
       "          Proportion of subscription  \n",
       "STATUS                                \n",
       "Married                     0.092700  \n",
       "Divorced                    0.103708  \n",
       "Single                      0.149158  "
      ]
     },
     "metadata": {},
     "output_type": "display_data"
    },
    {
     "name": "stdout",
     "output_type": "stream",
     "text": [
      "La p-valeur du test du chi2 d'indépendance est de 3.7066582496688655e-42 : MARITAL_STATUS n'est donc pas indépendant de la cible.\n"
     ]
    }
   ],
   "source": [
    "eda.target_by_marital_status(initial_data[~initial_data.JOB_TYPE.isin(['Retired'])])\n",
    "eda.test_independence_between_target_and_marital_status(initial_data)"
   ]
  },
  {
   "cell_type": "markdown",
   "id": "proof-header",
   "metadata": {},
   "source": [
    "## Lien entre MARITAL_STATUS et JOB_TYPE\n",
    "\n",
    "Cependant, il est évident que la catégorie professionnelle est un indicateur du statut marital, notamment parce que les étudiants sont habituellement célibataires et les retraités mariés. Vérifions d'abord cette intuition."
   ]
  },
  {
   "cell_type": "code",
   "execution_count": 13,
   "id": "pursuant-nightmare",
   "metadata": {},
   "outputs": [
    {
     "data": {
      "text/html": [
       "<div>\n",
       "<style scoped>\n",
       "    .dataframe tbody tr th:only-of-type {\n",
       "        vertical-align: middle;\n",
       "    }\n",
       "\n",
       "    .dataframe tbody tr th {\n",
       "        vertical-align: top;\n",
       "    }\n",
       "\n",
       "    .dataframe thead th {\n",
       "        text-align: right;\n",
       "    }\n",
       "</style>\n",
       "<table border=\"1\" class=\"dataframe\">\n",
       "  <thead>\n",
       "    <tr style=\"text-align: right;\">\n",
       "      <th>MARITAL_STATUS</th>\n",
       "      <th>Divorced</th>\n",
       "      <th>Married</th>\n",
       "      <th>Single</th>\n",
       "      <th>Subscription rate</th>\n",
       "    </tr>\n",
       "    <tr>\n",
       "      <th>JOB_TYPE</th>\n",
       "      <th></th>\n",
       "      <th></th>\n",
       "      <th></th>\n",
       "      <th></th>\n",
       "    </tr>\n",
       "  </thead>\n",
       "  <tbody>\n",
       "    <tr>\n",
       "      <th>Admin</th>\n",
       "      <td>727</td>\n",
       "      <td>2623</td>\n",
       "      <td>1686</td>\n",
       "      <td>0.121488</td>\n",
       "    </tr>\n",
       "    <tr>\n",
       "      <th>Blue-collar worker</th>\n",
       "      <td>728</td>\n",
       "      <td>6819</td>\n",
       "      <td>1973</td>\n",
       "      <td>0.072486</td>\n",
       "    </tr>\n",
       "    <tr>\n",
       "      <th>Entrepreneur</th>\n",
       "      <td>177</td>\n",
       "      <td>1045</td>\n",
       "      <td>234</td>\n",
       "      <td>0.080917</td>\n",
       "    </tr>\n",
       "    <tr>\n",
       "      <th>Freelance</th>\n",
       "      <td>138</td>\n",
       "      <td>970</td>\n",
       "      <td>436</td>\n",
       "      <td>0.117945</td>\n",
       "    </tr>\n",
       "    <tr>\n",
       "      <th>House keeper</th>\n",
       "      <td>177</td>\n",
       "      <td>890</td>\n",
       "      <td>141</td>\n",
       "      <td>0.087974</td>\n",
       "    </tr>\n",
       "    <tr>\n",
       "      <th>Manager</th>\n",
       "      <td>1079</td>\n",
       "      <td>5233</td>\n",
       "      <td>2869</td>\n",
       "      <td>0.137110</td>\n",
       "    </tr>\n",
       "    <tr>\n",
       "      <th>Retired</th>\n",
       "      <td>408</td>\n",
       "      <td>1678</td>\n",
       "      <td>106</td>\n",
       "      <td>0.226465</td>\n",
       "    </tr>\n",
       "    <tr>\n",
       "      <th>Services</th>\n",
       "      <td>530</td>\n",
       "      <td>2340</td>\n",
       "      <td>1172</td>\n",
       "      <td>0.088476</td>\n",
       "    </tr>\n",
       "    <tr>\n",
       "      <th>Student</th>\n",
       "      <td>6</td>\n",
       "      <td>53</td>\n",
       "      <td>846</td>\n",
       "      <td>0.285408</td>\n",
       "    </tr>\n",
       "    <tr>\n",
       "      <th>Technician</th>\n",
       "      <td>894</td>\n",
       "      <td>3938</td>\n",
       "      <td>2543</td>\n",
       "      <td>0.109808</td>\n",
       "    </tr>\n",
       "    <tr>\n",
       "      <th>Unemployed</th>\n",
       "      <td>166</td>\n",
       "      <td>716</td>\n",
       "      <td>390</td>\n",
       "      <td>0.154497</td>\n",
       "    </tr>\n",
       "  </tbody>\n",
       "</table>\n",
       "</div>"
      ],
      "text/plain": [
       "MARITAL_STATUS      Divorced  Married  Single  Subscription rate\n",
       "JOB_TYPE                                                        \n",
       "Admin                    727     2623    1686           0.121488\n",
       "Blue-collar worker       728     6819    1973           0.072486\n",
       "Entrepreneur             177     1045     234           0.080917\n",
       "Freelance                138      970     436           0.117945\n",
       "House keeper             177      890     141           0.087974\n",
       "Manager                 1079     5233    2869           0.137110\n",
       "Retired                  408     1678     106           0.226465\n",
       "Services                 530     2340    1172           0.088476\n",
       "Student                    6       53     846           0.285408\n",
       "Technician               894     3938    2543           0.109808\n",
       "Unemployed               166      716     390           0.154497"
      ]
     },
     "metadata": {},
     "output_type": "display_data"
    }
   ],
   "source": [
    "eda.marital_status_by_job_type(initial_data)"
   ]
  },
  {
   "cell_type": "markdown",
   "id": "stuck-korea",
   "metadata": {},
   "source": [
    "On pourrait alors penser que le fort taux de souscription chez les étudiants est dû à la forte proportion de célibataires, dont on a vu qu'ils étaient plus susceptibles de souscrire. Plus généralement, on pourrait penser que les taux de souscription observés pour chaque catégorie s'expliquent essentiellement par le statut marital de ses membres.\n",
    "\n",
    "Pour vérifier cette hypothèse, nous proposons d'essayer de prédire le taux de souscription dans chaque catégorie en fonction du taux de célibataires et du taux d'individus mariés dans cette catégorie. Nous avons effectué une régression linéaire et comparé les valeurs observées du taux de souscription avec les prédictions dans le modèle."
   ]
  },
  {
   "cell_type": "code",
   "execution_count": 14,
   "id": "differential-technician",
   "metadata": {},
   "outputs": [
    {
     "data": {
      "text/html": [
       "<div>\n",
       "<style scoped>\n",
       "    .dataframe tbody tr th:only-of-type {\n",
       "        vertical-align: middle;\n",
       "    }\n",
       "\n",
       "    .dataframe tbody tr th {\n",
       "        vertical-align: top;\n",
       "    }\n",
       "\n",
       "    .dataframe thead th {\n",
       "        text-align: right;\n",
       "    }\n",
       "</style>\n",
       "<table border=\"1\" class=\"dataframe\">\n",
       "  <thead>\n",
       "    <tr style=\"text-align: right;\">\n",
       "      <th>MARITAL_STATUS</th>\n",
       "      <th>Proportion Single</th>\n",
       "      <th>Proportion Married</th>\n",
       "      <th>Subscription rate</th>\n",
       "      <th>Predictions</th>\n",
       "    </tr>\n",
       "    <tr>\n",
       "      <th>JOB_TYPE</th>\n",
       "      <th></th>\n",
       "      <th></th>\n",
       "      <th></th>\n",
       "      <th></th>\n",
       "    </tr>\n",
       "  </thead>\n",
       "  <tbody>\n",
       "    <tr>\n",
       "      <th>Admin</th>\n",
       "      <td>0.334790</td>\n",
       "      <td>0.520850</td>\n",
       "      <td>0.121488</td>\n",
       "      <td>0.136505</td>\n",
       "    </tr>\n",
       "    <tr>\n",
       "      <th>Blue-collar worker</th>\n",
       "      <td>0.207248</td>\n",
       "      <td>0.716282</td>\n",
       "      <td>0.072486</td>\n",
       "      <td>0.121910</td>\n",
       "    </tr>\n",
       "    <tr>\n",
       "      <th>Entrepreneur</th>\n",
       "      <td>0.160714</td>\n",
       "      <td>0.717720</td>\n",
       "      <td>0.080917</td>\n",
       "      <td>0.109950</td>\n",
       "    </tr>\n",
       "    <tr>\n",
       "      <th>Freelance</th>\n",
       "      <td>0.282383</td>\n",
       "      <td>0.628238</td>\n",
       "      <td>0.117945</td>\n",
       "      <td>0.133081</td>\n",
       "    </tr>\n",
       "    <tr>\n",
       "      <th>House keeper</th>\n",
       "      <td>0.116722</td>\n",
       "      <td>0.736755</td>\n",
       "      <td>0.087974</td>\n",
       "      <td>0.100321</td>\n",
       "    </tr>\n",
       "    <tr>\n",
       "      <th>Manager</th>\n",
       "      <td>0.312493</td>\n",
       "      <td>0.569981</td>\n",
       "      <td>0.137110</td>\n",
       "      <td>0.135375</td>\n",
       "    </tr>\n",
       "    <tr>\n",
       "      <th>Retired</th>\n",
       "      <td>0.048358</td>\n",
       "      <td>0.765511</td>\n",
       "      <td>0.226465</td>\n",
       "      <td>0.085280</td>\n",
       "    </tr>\n",
       "    <tr>\n",
       "      <th>Services</th>\n",
       "      <td>0.289955</td>\n",
       "      <td>0.578921</td>\n",
       "      <td>0.088476</td>\n",
       "      <td>0.130365</td>\n",
       "    </tr>\n",
       "    <tr>\n",
       "      <th>Student</th>\n",
       "      <td>0.934807</td>\n",
       "      <td>0.058564</td>\n",
       "      <td>0.285408</td>\n",
       "      <td>0.248583</td>\n",
       "    </tr>\n",
       "    <tr>\n",
       "      <th>Technician</th>\n",
       "      <td>0.344814</td>\n",
       "      <td>0.533966</td>\n",
       "      <td>0.109808</td>\n",
       "      <td>0.140357</td>\n",
       "    </tr>\n",
       "    <tr>\n",
       "      <th>Unemployed</th>\n",
       "      <td>0.306604</td>\n",
       "      <td>0.562893</td>\n",
       "      <td>0.154497</td>\n",
       "      <td>0.133171</td>\n",
       "    </tr>\n",
       "  </tbody>\n",
       "</table>\n",
       "</div>"
      ],
      "text/plain": [
       "MARITAL_STATUS      Proportion Single  Proportion Married  Subscription rate  \\\n",
       "JOB_TYPE                                                                       \n",
       "Admin                        0.334790            0.520850           0.121488   \n",
       "Blue-collar worker           0.207248            0.716282           0.072486   \n",
       "Entrepreneur                 0.160714            0.717720           0.080917   \n",
       "Freelance                    0.282383            0.628238           0.117945   \n",
       "House keeper                 0.116722            0.736755           0.087974   \n",
       "Manager                      0.312493            0.569981           0.137110   \n",
       "Retired                      0.048358            0.765511           0.226465   \n",
       "Services                     0.289955            0.578921           0.088476   \n",
       "Student                      0.934807            0.058564           0.285408   \n",
       "Technician                   0.344814            0.533966           0.109808   \n",
       "Unemployed                   0.306604            0.562893           0.154497   \n",
       "\n",
       "MARITAL_STATUS      Predictions  \n",
       "JOB_TYPE                         \n",
       "Admin                  0.136505  \n",
       "Blue-collar worker     0.121910  \n",
       "Entrepreneur           0.109950  \n",
       "Freelance              0.133081  \n",
       "House keeper           0.100321  \n",
       "Manager                0.135375  \n",
       "Retired                0.085280  \n",
       "Services               0.130365  \n",
       "Student                0.248583  \n",
       "Technician             0.140357  \n",
       "Unemployed             0.133171  "
      ]
     },
     "metadata": {},
     "output_type": "display_data"
    }
   ],
   "source": [
    "eda.show_predictions_subscription_rate(initial_data)"
   ]
  },
  {
   "cell_type": "markdown",
   "id": "excited-playback",
   "metadata": {
    "variables": {
     "10e-5": "0.0001"
    }
   },
   "source": [
    "Les prédictions semblent plutôt bonnes. Le coefficient R2 est supérieur à 0.85, la p-valeur du test de Fisher est inférieure à {{10e-5}}, les p-valeurs de Student sont relativement faibles..."
   ]
  },
  {
   "cell_type": "code",
   "execution_count": 15,
   "id": "artistic-export",
   "metadata": {},
   "outputs": [
    {
     "name": "stdout",
     "output_type": "stream",
     "text": [
      "                        Results: Ordinary least squares\n",
      "================================================================================\n",
      "Model:                  OLS               Adj. R-squared (uncentered): 0.858    \n",
      "Dependent Variable:     Subscription rate AIC:                         -30.3632 \n",
      "Date:                   2021-03-08 23:28  BIC:                         -29.5674 \n",
      "No. Observations:       11                Log-Likelihood:              17.182   \n",
      "Df Model:               2                 F-statistic:                 34.18    \n",
      "Df Residuals:           9                 Prob (F-statistic):          6.25e-05 \n",
      "R-squared (uncentered): 0.884             Scale:                       0.0031475\n",
      "-----------------------------------------------------------------------------------\n",
      "                         Coef.     Std.Err.      t       P>|t|     [0.025    0.975]\n",
      "-----------------------------------------------------------------------------------\n",
      "Proportion Single        0.2600      0.0562    4.6283    0.0012    0.1329    0.3870\n",
      "Proportion Married       0.0950      0.0345    2.7507    0.0225    0.0169    0.1731\n",
      "--------------------------------------------------------------------------------\n",
      "Omnibus:                    15.101            Durbin-Watson:               2.414\n",
      "Prob(Omnibus):              0.001             Jarque-Bera (JB):            8.734\n",
      "Skew:                       1.780             Prob(JB):                    0.013\n",
      "Kurtosis:                   5.525             Condition No.:               2    \n",
      "================================================================================\n",
      "\n"
     ]
    }
   ],
   "source": [
    "eda.show_results_linear_regression_subscription_rate(initial_data)"
   ]
  },
  {
   "cell_type": "markdown",
   "id": "overall-tuesday",
   "metadata": {},
   "source": [
    "mais la prédiction correspondant aux retraités est particulièrement mauvaise en comparaison avec les autres. Un test de détection de valeurs aberrantes de Bonferonni confirme que cette valeur est significativement différentes des autres observations relativement à ce modèle de régression linéaire."
   ]
  },
  {
   "cell_type": "code",
   "execution_count": 16,
   "id": "marked-separation",
   "metadata": {},
   "outputs": [
    {
     "name": "stdout",
     "output_type": "stream",
     "text": [
      "Bonferroni outlier test p-value: 0.0007374930862086826\n"
     ]
    }
   ],
   "source": [
    "eda.bonferroni_outlier_test_retired(initial_data)"
   ]
  },
  {
   "cell_type": "markdown",
   "id": "surgical-buyer",
   "metadata": {},
   "source": [
    "La catégorie des retraités est donc différente des autres, et n'est pas bien expliqué par le modèle de régression linéaire. Cependant, si on enlève cette observation et qu'on réentraîne le modèle sur les valeurs restantes, on obtient un très bon modèle :"
   ]
  },
  {
   "cell_type": "code",
   "execution_count": 17,
   "id": "indian-blink",
   "metadata": {},
   "outputs": [
    {
     "name": "stdout",
     "output_type": "stream",
     "text": [
      "                         Results: Ordinary least squares\n",
      "=================================================================================\n",
      "Model:                  OLS               Adj. R-squared (uncentered): 0.977     \n",
      "Dependent Variable:     Subscription rate AIC:                         -47.2003  \n",
      "Date:                   2021-03-08 23:28  BIC:                         -46.5952  \n",
      "No. Observations:       10                Log-Likelihood:              25.600    \n",
      "Df Model:               2                 F-statistic:                 215.8     \n",
      "Df Residuals:           8                 Prob (F-statistic):          1.10e-07  \n",
      "R-squared (uncentered): 0.982             Scale:                       0.00043735\n",
      "------------------------------------------------------------------------------------\n",
      "                         Coef.     Std.Err.       t       P>|t|     [0.025    0.975]\n",
      "------------------------------------------------------------------------------------\n",
      "Proportion Single        0.3008      0.0216    13.9087    0.0000    0.2509    0.3507\n",
      "Proportion Married       0.0471      0.0144     3.2814    0.0112    0.0140    0.0802\n",
      "---------------------------------------------------------------------------------\n",
      "Omnibus:                    0.242             Durbin-Watson:                2.030\n",
      "Prob(Omnibus):              0.886             Jarque-Bera (JB):             0.372\n",
      "Skew:                       0.258             Prob(JB):                     0.830\n",
      "Kurtosis:                   2.209             Condition No.:                2    \n",
      "=================================================================================\n",
      "\n"
     ]
    }
   ],
   "source": [
    "eda.show_results_linear_regression_subscription_rate_without_retired(initial_data)"
   ]
  },
  {
   "cell_type": "markdown",
   "id": "present-embassy",
   "metadata": {},
   "source": [
    "La p-valeur du test de Fisher est très faible, et les deux variables sont maintenant significatives au seuil de 3% d'erreur. Même si on pourrait encore utiliser d'autres outils de validation pour ce modèle, on peut considérer que le taux de souscription d'une catégorie professionnelle (autre que celle des retraités) est très bien expliquée à l'aide des taux de souscription relatif aux différents statuts maritaux."
   ]
  },
  {
   "cell_type": "code",
   "execution_count": 18,
   "id": "personalized-texture",
   "metadata": {},
   "outputs": [
    {
     "data": {
      "text/html": [
       "<div>\n",
       "<style scoped>\n",
       "    .dataframe tbody tr th:only-of-type {\n",
       "        vertical-align: middle;\n",
       "    }\n",
       "\n",
       "    .dataframe tbody tr th {\n",
       "        vertical-align: top;\n",
       "    }\n",
       "\n",
       "    .dataframe thead th {\n",
       "        text-align: right;\n",
       "    }\n",
       "</style>\n",
       "<table border=\"1\" class=\"dataframe\">\n",
       "  <thead>\n",
       "    <tr style=\"text-align: right;\">\n",
       "      <th>MARITAL_STATUS</th>\n",
       "      <th>Proportion Single</th>\n",
       "      <th>Proportion Married</th>\n",
       "      <th>Subscription rate</th>\n",
       "      <th>Predictions</th>\n",
       "    </tr>\n",
       "    <tr>\n",
       "      <th>JOB_TYPE</th>\n",
       "      <th></th>\n",
       "      <th></th>\n",
       "      <th></th>\n",
       "      <th></th>\n",
       "    </tr>\n",
       "  </thead>\n",
       "  <tbody>\n",
       "    <tr>\n",
       "      <th>Admin</th>\n",
       "      <td>0.334790</td>\n",
       "      <td>0.520850</td>\n",
       "      <td>0.121488</td>\n",
       "      <td>0.125246</td>\n",
       "    </tr>\n",
       "    <tr>\n",
       "      <th>Blue-collar worker</th>\n",
       "      <td>0.207248</td>\n",
       "      <td>0.716282</td>\n",
       "      <td>0.072486</td>\n",
       "      <td>0.096084</td>\n",
       "    </tr>\n",
       "    <tr>\n",
       "      <th>Entrepreneur</th>\n",
       "      <td>0.160714</td>\n",
       "      <td>0.717720</td>\n",
       "      <td>0.080917</td>\n",
       "      <td>0.082153</td>\n",
       "    </tr>\n",
       "    <tr>\n",
       "      <th>Freelance</th>\n",
       "      <td>0.282383</td>\n",
       "      <td>0.628238</td>\n",
       "      <td>0.117945</td>\n",
       "      <td>0.114539</td>\n",
       "    </tr>\n",
       "    <tr>\n",
       "      <th>House keeper</th>\n",
       "      <td>0.116722</td>\n",
       "      <td>0.736755</td>\n",
       "      <td>0.087974</td>\n",
       "      <td>0.069816</td>\n",
       "    </tr>\n",
       "    <tr>\n",
       "      <th>Manager</th>\n",
       "      <td>0.312493</td>\n",
       "      <td>0.569981</td>\n",
       "      <td>0.137110</td>\n",
       "      <td>0.120853</td>\n",
       "    </tr>\n",
       "    <tr>\n",
       "      <th>Services</th>\n",
       "      <td>0.289955</td>\n",
       "      <td>0.578921</td>\n",
       "      <td>0.088476</td>\n",
       "      <td>0.114494</td>\n",
       "    </tr>\n",
       "    <tr>\n",
       "      <th>Student</th>\n",
       "      <td>0.934807</td>\n",
       "      <td>0.058564</td>\n",
       "      <td>0.285408</td>\n",
       "      <td>0.283969</td>\n",
       "    </tr>\n",
       "    <tr>\n",
       "      <th>Technician</th>\n",
       "      <td>0.344814</td>\n",
       "      <td>0.533966</td>\n",
       "      <td>0.109808</td>\n",
       "      <td>0.128879</td>\n",
       "    </tr>\n",
       "    <tr>\n",
       "      <th>Unemployed</th>\n",
       "      <td>0.306604</td>\n",
       "      <td>0.562893</td>\n",
       "      <td>0.154497</td>\n",
       "      <td>0.118747</td>\n",
       "    </tr>\n",
       "  </tbody>\n",
       "</table>\n",
       "</div>"
      ],
      "text/plain": [
       "MARITAL_STATUS      Proportion Single  Proportion Married  Subscription rate  \\\n",
       "JOB_TYPE                                                                       \n",
       "Admin                        0.334790            0.520850           0.121488   \n",
       "Blue-collar worker           0.207248            0.716282           0.072486   \n",
       "Entrepreneur                 0.160714            0.717720           0.080917   \n",
       "Freelance                    0.282383            0.628238           0.117945   \n",
       "House keeper                 0.116722            0.736755           0.087974   \n",
       "Manager                      0.312493            0.569981           0.137110   \n",
       "Services                     0.289955            0.578921           0.088476   \n",
       "Student                      0.934807            0.058564           0.285408   \n",
       "Technician                   0.344814            0.533966           0.109808   \n",
       "Unemployed                   0.306604            0.562893           0.154497   \n",
       "\n",
       "MARITAL_STATUS      Predictions  \n",
       "JOB_TYPE                         \n",
       "Admin                  0.125246  \n",
       "Blue-collar worker     0.096084  \n",
       "Entrepreneur           0.082153  \n",
       "Freelance              0.114539  \n",
       "House keeper           0.069816  \n",
       "Manager                0.120853  \n",
       "Services               0.114494  \n",
       "Student                0.283969  \n",
       "Technician             0.128879  \n",
       "Unemployed             0.118747  "
      ]
     },
     "metadata": {},
     "output_type": "display_data"
    }
   ],
   "source": [
    "eda.show_predictions_subscription_rate_without_retired(initial_data)"
   ]
  },
  {
   "cell_type": "markdown",
   "id": "incredible-membership",
   "metadata": {},
   "source": [
    "Au vu de ces résultats, nous avons décidé d'utiliser l'encodage one-hot pour la variable MARITAL_STATUS, et de ne garder de JOB_TYPE que la variable indicatrice de la catégorie \"Retired\".\n",
    "\n",
    "D'autre part, on voit en particulier dans le dernier tableau ci-dessous que, sauf chez les étudiants qui sont majoritairement célibataires, le statut marital majoritaire est d'être marié. On peut donc utiliser la variable JOB_TYPE pour compléter les données manquantes de la variable MARITAL_STATUS.\n",
    "\n",
    "Enfin, nous pouvons compléter notre intuition concernant le public le plus susceptible d'être intéressé par les dépôts à terme : nous avons vu dans les deux dernières sections que les retraités et les célibataires étaient particulièrement intéressés par ce produit, par opposition aux personnes actives et mariées qui en sont peu friandes. En effet, les dépôts à terme sont particulièrement adaptés pour des personnes qui ont un capital dormant qu'elles n'ont pas l'intention d'utiliser dans l'immédiat. On peut alors imaginer que les personnes mariées et actives ont généralement des prêts à rembourser et une famille à faire vivre, ce qui peut les amener à préférer garder une réserve d'argent disponible, tandis que les retraités par exemple n'auraient pas ou plus de projet coûteux à réaliser. "
   ]
  },
  {
   "cell_type": "markdown",
   "id": "dangerous-works",
   "metadata": {},
   "source": [
    "## Lien entre la variable AGE et la cible"
   ]
  },
  {
   "cell_type": "markdown",
   "id": "simplified-issue",
   "metadata": {
    "variables": {
     "initial_data['AGE'].eq(123).sum()": "1806"
    }
   },
   "source": [
    "Ainsi, la cible semble d'emblée liée à l'âge : les plus jeunes et les plus vieux semblent plus susceptibles de souscrire.\n",
    "\n",
    "La variable AGE est continue. Elle possède une valeur aberrante de 123 ans pour {{initial_data['AGE'].eq(123).sum()}} personnes, qui correspond en fait à une valeur manquante. Nous proposons de compléter ces valeurs en les remplaçant par l'âge moyen parmi la catégorie professionnelle concernée. En effet, on peut voir sur le tableau ci-dessous que ces valeurs sont plausibles."
   ]
  },
  {
   "cell_type": "code",
   "execution_count": 19,
   "id": "distant-jenny",
   "metadata": {},
   "outputs": [
    {
     "data": {
      "text/html": [
       "<div>\n",
       "<style scoped>\n",
       "    .dataframe tbody tr th:only-of-type {\n",
       "        vertical-align: middle;\n",
       "    }\n",
       "\n",
       "    .dataframe tbody tr th {\n",
       "        vertical-align: top;\n",
       "    }\n",
       "\n",
       "    .dataframe thead th {\n",
       "        text-align: right;\n",
       "    }\n",
       "</style>\n",
       "<table border=\"1\" class=\"dataframe\">\n",
       "  <thead>\n",
       "    <tr style=\"text-align: right;\">\n",
       "      <th></th>\n",
       "      <th>AGE</th>\n",
       "    </tr>\n",
       "    <tr>\n",
       "      <th>JOB_TYPE</th>\n",
       "      <th></th>\n",
       "    </tr>\n",
       "  </thead>\n",
       "  <tbody>\n",
       "    <tr>\n",
       "      <th>Admin</th>\n",
       "      <td>39.277778</td>\n",
       "    </tr>\n",
       "    <tr>\n",
       "      <th>Blue-collar worker</th>\n",
       "      <td>40.047385</td>\n",
       "    </tr>\n",
       "    <tr>\n",
       "      <th>Entrepreneur</th>\n",
       "      <td>42.184100</td>\n",
       "    </tr>\n",
       "    <tr>\n",
       "      <th>Freelance</th>\n",
       "      <td>40.462804</td>\n",
       "    </tr>\n",
       "    <tr>\n",
       "      <th>House keeper</th>\n",
       "      <td>46.347826</td>\n",
       "    </tr>\n",
       "    <tr>\n",
       "      <th>Manager</th>\n",
       "      <td>40.436297</td>\n",
       "    </tr>\n",
       "    <tr>\n",
       "      <th>Retired</th>\n",
       "      <td>61.654851</td>\n",
       "    </tr>\n",
       "    <tr>\n",
       "      <th>Services</th>\n",
       "      <td>38.740704</td>\n",
       "    </tr>\n",
       "    <tr>\n",
       "      <th>Student</th>\n",
       "      <td>26.555307</td>\n",
       "    </tr>\n",
       "    <tr>\n",
       "      <th>Technician</th>\n",
       "      <td>39.330026</td>\n",
       "    </tr>\n",
       "    <tr>\n",
       "      <th>Unemployed</th>\n",
       "      <td>41.002396</td>\n",
       "    </tr>\n",
       "  </tbody>\n",
       "</table>\n",
       "</div>"
      ],
      "text/plain": [
       "                          AGE\n",
       "JOB_TYPE                     \n",
       "Admin               39.277778\n",
       "Blue-collar worker  40.047385\n",
       "Entrepreneur        42.184100\n",
       "Freelance           40.462804\n",
       "House keeper        46.347826\n",
       "Manager             40.436297\n",
       "Retired             61.654851\n",
       "Services            38.740704\n",
       "Student             26.555307\n",
       "Technician          39.330026\n",
       "Unemployed          41.002396"
      ]
     },
     "metadata": {},
     "output_type": "display_data"
    }
   ],
   "source": [
    "eda.show_mean_age_by_job_type(initial_data)"
   ]
  },
  {
   "cell_type": "code",
   "execution_count": 20,
   "id": "current-hollow",
   "metadata": {},
   "outputs": [],
   "source": [
    "eda.replace_age123_by_mean_in_job_type(initial_data)"
   ]
  },
  {
   "cell_type": "markdown",
   "id": "anticipated-pearl",
   "metadata": {},
   "source": [
    "On peut alors étudier la distribution de la variable AGE."
   ]
  },
  {
   "cell_type": "code",
   "execution_count": 21,
   "id": "unexpected-chorus",
   "metadata": {},
   "outputs": [
    {
     "data": {
      "image/png": "[encoded data removed]",
      "text/plain": [
       "<Figure size 441.375x360 with 1 Axes>"
      ]
     },
     "metadata": {
      "needs_background": "light"
     },
     "output_type": "display_data"
    }
   ],
   "source": [
    "eda.plot_age_histogram(initial_data)"
   ]
  },
  {
   "cell_type": "markdown",
   "id": "sudden-house",
   "metadata": {},
   "source": [
    "Il apparaît alors clairement que la distribution de l'âge des souscripteurs est plus concentrée sur les plus jeunes et les plus vieux. En dehors de cela, les distributions ne sont pas facilement discernables. Nous avons donc choisi de résumer la variable AGE à l'indicatrice (AGE > 60) d'une part, et à l'indicatrice (AGE<25) d'autre part.\n",
    "\n",
    "Avec ces choix, il n'est alors plus nécessaire d'utiliser une technique de complétion sophistiquée pour éviter les pics visibles sur l'histogramme : beaucoup d'individus se voient attribué un âge d'environ 40 ans, mais ces âges ne sont pas ensuite retenus dans nos features."
   ]
  },
  {
   "cell_type": "markdown",
   "id": "public-physiology",
   "metadata": {},
   "source": [
    "## Lien entre la variable DATE et la cible"
   ]
  },
  {
   "cell_type": "markdown",
   "id": "dressed-reservoir",
   "metadata": {},
   "source": [
    "Il est naturel de se demander si certaines périodes sont plus propices à la vente de dépôts à terme.\n",
    "\n",
    "La répartition de la variable en fonction de l'année montre que les campagnes ont surtout été menées en 2008, puis en moindre mesure en 2009 et 2010."
   ]
  },
  {
   "cell_type": "code",
   "execution_count": 22,
   "id": "collective-transportation",
   "metadata": {},
   "outputs": [
    {
     "data": {
      "image/png": "[encoded data removed]",
      "text/plain": [
       "<Figure size 432x288 with 1 Axes>"
      ]
     },
     "metadata": {
      "needs_background": "light"
     },
     "output_type": "display_data"
    }
   ],
   "source": [
    "eda.plot_date_by_year(initial_data)"
   ]
  },
  {
   "cell_type": "markdown",
   "id": "assumed-press",
   "metadata": {},
   "source": [
    "On peut également visualiser cette répartition par mois."
   ]
  },
  {
   "cell_type": "code",
   "execution_count": 23,
   "id": "decent-circumstances",
   "metadata": {},
   "outputs": [
    {
     "data": {
      "image/png": "[encoded data removed]",
      "text/plain": [
       "<Figure size 432x288 with 1 Axes>"
      ]
     },
     "metadata": {
      "needs_background": "light"
     },
     "output_type": "display_data"
    }
   ],
   "source": [
    "eda.plot_date_year_and_month(initial_data)"
   ]
  },
  {
   "cell_type": "markdown",
   "id": "parental-payment",
   "metadata": {},
   "source": [
    "Nous avons également observé le jour de la semaine de chacune des dates. On peut voir des différences significatives entre les jours, en effectuant par exemple un test d'indépendance du chi2 entre le jour de la semaine et le taux de souscription. "
   ]
  },
  {
   "cell_type": "code",
   "execution_count": 24,
   "id": "cleared-print",
   "metadata": {},
   "outputs": [
    {
     "data": {
      "text/html": [
       "<div>\n",
       "<style scoped>\n",
       "    .dataframe tbody tr th:only-of-type {\n",
       "        vertical-align: middle;\n",
       "    }\n",
       "\n",
       "    .dataframe tbody tr th {\n",
       "        vertical-align: top;\n",
       "    }\n",
       "\n",
       "    .dataframe thead th {\n",
       "        text-align: right;\n",
       "    }\n",
       "</style>\n",
       "<table border=\"1\" class=\"dataframe\">\n",
       "  <thead>\n",
       "    <tr style=\"text-align: right;\">\n",
       "      <th></th>\n",
       "      <th>Subscription rate</th>\n",
       "    </tr>\n",
       "    <tr>\n",
       "      <th>WEEKDAY</th>\n",
       "      <th></th>\n",
       "    </tr>\n",
       "  </thead>\n",
       "  <tbody>\n",
       "    <tr>\n",
       "      <th>Saturday</th>\n",
       "      <td>0.100000</td>\n",
       "    </tr>\n",
       "    <tr>\n",
       "      <th>Monday</th>\n",
       "      <td>0.101326</td>\n",
       "    </tr>\n",
       "    <tr>\n",
       "      <th>Friday</th>\n",
       "      <td>0.113281</td>\n",
       "    </tr>\n",
       "    <tr>\n",
       "      <th>Wednesday</th>\n",
       "      <td>0.121038</td>\n",
       "    </tr>\n",
       "    <tr>\n",
       "      <th>Tuesday</th>\n",
       "      <td>0.121628</td>\n",
       "    </tr>\n",
       "    <tr>\n",
       "      <th>Thursday</th>\n",
       "      <td>0.125026</td>\n",
       "    </tr>\n",
       "    <tr>\n",
       "      <th>Sunday</th>\n",
       "      <td>0.200000</td>\n",
       "    </tr>\n",
       "  </tbody>\n",
       "</table>\n",
       "</div>"
      ],
      "text/plain": [
       "           Subscription rate\n",
       "WEEKDAY                     \n",
       "Saturday            0.100000\n",
       "Monday              0.101326\n",
       "Friday              0.113281\n",
       "Wednesday           0.121038\n",
       "Tuesday             0.121628\n",
       "Thursday            0.125026\n",
       "Sunday              0.200000"
      ]
     },
     "metadata": {},
     "output_type": "display_data"
    },
    {
     "name": "stdout",
     "output_type": "stream",
     "text": [
      "La p-valeur du test du chi2 d'indépendance est de 0.0 : le jour de la semaine n'est donc pas indépendant de la cible.\n"
     ]
    }
   ],
   "source": [
    "eda.show_table_subscription_by_weekday(initial_data)\n",
    "eda.test_independence_between_target_and_weekday(initial_data)"
   ]
  },
  {
   "cell_type": "markdown",
   "id": "macro-neighbor",
   "metadata": {},
   "source": [
    "Cependant, nous choisissons de ne pas garder de feature basé sur le jour de la semaine, car cette corrélation avec la cible est probablement artificielle : les (plus rares) contacts ayant lieu le samedi ou le dimanche ont probablement été programmés avec l'assentiment du client, et on sait alors que celui-ci est probablement plus enclin à souscrire. Les autres différences hors week-end pourraient s'expliquer de différentes manières, sans qu'il soit pertinent de conseiller à la banque d'appeler ses clients le jeudi plutôt que le lundi. D'autre part, les données disponibles sont relatives non au premier contact, mais au dernier, et il est de toute façon impossible de proposer une stratégie permettant d'aboutir à un dernier contact à un certain jour de la semaine.\n",
    "\n",
    "Par contre, en gardant seulement le mois et plus le jour, on obtient des différences significatives."
   ]
  },
  {
   "cell_type": "code",
   "execution_count": 25,
   "id": "residential-polish",
   "metadata": {},
   "outputs": [
    {
     "data": {
      "text/html": [
       "<div>\n",
       "<style scoped>\n",
       "    .dataframe tbody tr th:only-of-type {\n",
       "        vertical-align: middle;\n",
       "    }\n",
       "\n",
       "    .dataframe tbody tr th {\n",
       "        vertical-align: top;\n",
       "    }\n",
       "\n",
       "    .dataframe thead th {\n",
       "        text-align: right;\n",
       "    }\n",
       "</style>\n",
       "<table border=\"1\" class=\"dataframe\">\n",
       "  <thead>\n",
       "    <tr style=\"text-align: right;\">\n",
       "      <th></th>\n",
       "      <th>Subscription rate</th>\n",
       "    </tr>\n",
       "    <tr>\n",
       "      <th>MONTH</th>\n",
       "      <th></th>\n",
       "    </tr>\n",
       "  </thead>\n",
       "  <tbody>\n",
       "    <tr>\n",
       "      <th>May</th>\n",
       "      <td>0.067195</td>\n",
       "    </tr>\n",
       "    <tr>\n",
       "      <th>July</th>\n",
       "      <td>0.090935</td>\n",
       "    </tr>\n",
       "    <tr>\n",
       "      <th>November</th>\n",
       "      <td>0.094223</td>\n",
       "    </tr>\n",
       "    <tr>\n",
       "      <th>January</th>\n",
       "      <td>0.101212</td>\n",
       "    </tr>\n",
       "    <tr>\n",
       "      <th>June</th>\n",
       "      <td>0.102228</td>\n",
       "    </tr>\n",
       "    <tr>\n",
       "      <th>August</th>\n",
       "      <td>0.110133</td>\n",
       "    </tr>\n",
       "    <tr>\n",
       "      <th>February</th>\n",
       "      <td>0.166478</td>\n",
       "    </tr>\n",
       "    <tr>\n",
       "      <th>April</th>\n",
       "      <td>0.196794</td>\n",
       "    </tr>\n",
       "    <tr>\n",
       "      <th>October</th>\n",
       "      <td>0.437669</td>\n",
       "    </tr>\n",
       "    <tr>\n",
       "      <th>September</th>\n",
       "      <td>0.464594</td>\n",
       "    </tr>\n",
       "    <tr>\n",
       "      <th>December</th>\n",
       "      <td>0.467290</td>\n",
       "    </tr>\n",
       "    <tr>\n",
       "      <th>March</th>\n",
       "      <td>0.519916</td>\n",
       "    </tr>\n",
       "  </tbody>\n",
       "</table>\n",
       "</div>"
      ],
      "text/plain": [
       "           Subscription rate\n",
       "MONTH                       \n",
       "May                 0.067195\n",
       "July                0.090935\n",
       "November            0.094223\n",
       "January             0.101212\n",
       "June                0.102228\n",
       "August              0.110133\n",
       "February            0.166478\n",
       "April               0.196794\n",
       "October             0.437669\n",
       "September           0.464594\n",
       "December            0.467290\n",
       "March               0.519916"
      ]
     },
     "metadata": {},
     "output_type": "display_data"
    }
   ],
   "source": [
    "eda.show_table_subscription_by_month(initial_data)"
   ]
  },
  {
   "cell_type": "markdown",
   "id": "understood-rebate",
   "metadata": {},
   "source": [
    "On distingue alors grossièrement deux périodes peu propices aux campagnes de démarchage : avant et après Noël, et avant et pendant les vacances scolaires d'été. On peut penser qu'à ces périodes, le client anticipe des dépenses importantes. Nous conserverons donc le feature du mois pour notre étude."
   ]
  },
  {
   "cell_type": "markdown",
   "id": "educational-tattoo",
   "metadata": {},
   "source": [
    "## Lien entre la variable EDUCATION et la cible"
   ]
  },
  {
   "cell_type": "markdown",
   "id": "female-drunk",
   "metadata": {
    "variables": {
     "initial_data['EDUCATION'].isnull().sum()": "1853"
    }
   },
   "source": [
    "Nous nous intéressons maintenant à la variable EDUCATION. Cette variable contient {{initial_data['EDUCATION'].isnull().sum()}} valeurs manquantes, que nous proposons de compléter en utilisant la variable JOB_TYPE comme décrit ci-dessus.\n",
    "\n",
    "Visualisons la répartition de cette variable :"
   ]
  },
  {
   "cell_type": "code",
   "execution_count": 26,
   "id": "coastal-albert",
   "metadata": {},
   "outputs": [
    {
     "data": {
      "image/png": "[encoded data removed]",
      "text/plain": [
       "<Figure size 432x288 with 1 Axes>"
      ]
     },
     "metadata": {
      "needs_background": "light"
     },
     "output_type": "display_data"
    }
   ],
   "source": [
    "eda.plot_education(initial_data)"
   ]
  },
  {
   "cell_type": "markdown",
   "id": "unlimited-border",
   "metadata": {},
   "source": [
    "Cette variable est sensiblement liée à la cible :"
   ]
  },
  {
   "cell_type": "code",
   "execution_count": 27,
   "id": "acceptable-departure",
   "metadata": {},
   "outputs": [
    {
     "data": {
      "text/html": [
       "<div>\n",
       "<style scoped>\n",
       "    .dataframe tbody tr th:only-of-type {\n",
       "        vertical-align: middle;\n",
       "    }\n",
       "\n",
       "    .dataframe tbody tr th {\n",
       "        vertical-align: top;\n",
       "    }\n",
       "\n",
       "    .dataframe thead th {\n",
       "        text-align: right;\n",
       "    }\n",
       "</style>\n",
       "<table border=\"1\" class=\"dataframe\">\n",
       "  <thead>\n",
       "    <tr style=\"text-align: right;\">\n",
       "      <th></th>\n",
       "      <th>Subscription rate</th>\n",
       "    </tr>\n",
       "    <tr>\n",
       "      <th>EDUCATION</th>\n",
       "      <th></th>\n",
       "    </tr>\n",
       "  </thead>\n",
       "  <tbody>\n",
       "    <tr>\n",
       "      <th>Primary education</th>\n",
       "      <td>0.086182</td>\n",
       "    </tr>\n",
       "    <tr>\n",
       "      <th>Secondary education</th>\n",
       "      <td>0.104856</td>\n",
       "    </tr>\n",
       "    <tr>\n",
       "      <th>Graduate studies</th>\n",
       "      <td>0.149337</td>\n",
       "    </tr>\n",
       "  </tbody>\n",
       "</table>\n",
       "</div>"
      ],
      "text/plain": [
       "                     Subscription rate\n",
       "EDUCATION                             \n",
       "Primary education             0.086182\n",
       "Secondary education           0.104856\n",
       "Graduate studies              0.149337"
      ]
     },
     "metadata": {},
     "output_type": "display_data"
    }
   ],
   "source": [
    "eda.show_table_subscription_by_education(initial_data)"
   ]
  },
  {
   "cell_type": "markdown",
   "id": "alternate-talent",
   "metadata": {},
   "source": [
    "Il semble donc y avoir un léger signal dans cette variable, qui d'autre part ne semble pas intuitivement corrélée avec le fait d'être ou non retraité, ou au statut marital par exemple. Nous décidons donc d'inclure cette variable avec un encodage one-hot."
   ]
  },
  {
   "cell_type": "markdown",
   "id": "proper-direction",
   "metadata": {},
   "source": [
    "## Lien entre les variables HAS_HOUSING_LOAN, HAS_PERSO_LOAN et la cible"
   ]
  },
  {
   "cell_type": "markdown",
   "id": "skilled-framing",
   "metadata": {},
   "source": [
    "Ces deux variables représentent un prêt (immobilier ou à la consommation) pesant sur le client. Intuitivement, un client doit rembourser un prêt est contraint, ne peut pas disposer aussi librement de son épargne, et aura donc tendance à refuser un dépôt à terme.\n",
    "\n",
    "Voici la répartition de ces deux variables."
   ]
  },
  {
   "cell_type": "code",
   "execution_count": 28,
   "id": "descending-termination",
   "metadata": {},
   "outputs": [
    {
     "data": {
      "image/png": "[encoded data removed]",
      "text/plain": [
       "<Figure size 864x360 with 2 Axes>"
      ]
     },
     "metadata": {
      "needs_background": "light"
     },
     "output_type": "display_data"
    }
   ],
   "source": [
    "eda.plot_has_housing_and_perso_loan(initial_data)"
   ]
  },
  {
   "cell_type": "markdown",
   "id": "cross-shirt",
   "metadata": {
    "variables": {
     "initial_data['HAS_PERSO_LOAN'].isnull().sum()": "1354"
    }
   },
   "source": [
    "La variable HAS_HOUSING_LOAN n'a pas de valeur manquante, mais la variable HAS_PERSO_LOAN en a {{initial_data['HAS_PERSO_LOAN'].isnull().sum()}}. Nous supposons que ces valeurs correspondent à une absence de prêt personnel, ce qui correspond également à compléter par la valeur la plus fréquente de la variable. D'autre part, nous encoderons les deux variables comme des binaires 0-1.\n",
    "\n",
    "Nous construisons également une variable HAS_LOAN indiquant quels clients possèdent ou un prêt immobilier, ou un prêt personnel. Calculons alors les différentes corrélations avec la cible."
   ]
  },
  {
   "cell_type": "code",
   "execution_count": 29,
   "id": "widespread-black",
   "metadata": {},
   "outputs": [
    {
     "data": {
      "text/html": [
       "<div>\n",
       "<style scoped>\n",
       "    .dataframe tbody tr th:only-of-type {\n",
       "        vertical-align: middle;\n",
       "    }\n",
       "\n",
       "    .dataframe tbody tr th {\n",
       "        vertical-align: top;\n",
       "    }\n",
       "\n",
       "    .dataframe thead th {\n",
       "        text-align: right;\n",
       "    }\n",
       "</style>\n",
       "<table border=\"1\" class=\"dataframe\">\n",
       "  <thead>\n",
       "    <tr style=\"text-align: right;\">\n",
       "      <th></th>\n",
       "      <th>Correlation with target</th>\n",
       "    </tr>\n",
       "  </thead>\n",
       "  <tbody>\n",
       "    <tr>\n",
       "      <th>HAS_PERSO_LOAN</th>\n",
       "      <td>-0.067503</td>\n",
       "    </tr>\n",
       "    <tr>\n",
       "      <th>HAS_HOUSING_LOAN</th>\n",
       "      <td>-0.138813</td>\n",
       "    </tr>\n",
       "    <tr>\n",
       "      <th>HAS_LOAN</th>\n",
       "      <td>-0.159144</td>\n",
       "    </tr>\n",
       "  </tbody>\n",
       "</table>\n",
       "</div>"
      ],
      "text/plain": [
       "                  Correlation with target\n",
       "HAS_PERSO_LOAN                  -0.067503\n",
       "HAS_HOUSING_LOAN                -0.138813\n",
       "HAS_LOAN                        -0.159144"
      ]
     },
     "metadata": {},
     "output_type": "display_data"
    }
   ],
   "source": [
    "eda.show_correlation_loan_variables_with_target(initial_data)"
   ]
  },
  {
   "cell_type": "markdown",
   "id": "alike-layout",
   "metadata": {},
   "source": [
    "Combiner les deux types de prêt permet donc d'obtenir une meilleure corrélation. Certes, ce nouveau feature est également corrélé avec HAS_HOUSING_LOAN et HAS_PERSO_LOAN, mais nous nous proposons d'utiliser tout de même les trois features conjointement, quitte à se rendre compte lors des tests que certains de ces features sont problématiques ou inutiles."
   ]
  },
  {
   "cell_type": "markdown",
   "id": "color-measurement",
   "metadata": {},
   "source": [
    "## Lien entre HAS_DEFAULT et la cible"
   ]
  },
  {
   "cell_type": "markdown",
   "id": "correct-quantity",
   "metadata": {},
   "source": [
    "La variable binaire HAS_DEFAULT indique si un client a déjà fait défaut. Elle trahit donc l'aisance financière d'un individu, et devrait donc être négativement corrélée avec la cible.\n",
    "\n",
    "On peut visualiser sa répartition, et calculer sa corrélation avec la cible."
   ]
  },
  {
   "cell_type": "code",
   "execution_count": 30,
   "id": "separated-palestine",
   "metadata": {},
   "outputs": [
    {
     "data": {
      "image/png": "[encoded data removed]",
      "text/plain": [
       "<Figure size 432x288 with 1 Axes>"
      ]
     },
     "metadata": {
      "needs_background": "light"
     },
     "output_type": "display_data"
    },
    {
     "name": "stdout",
     "output_type": "stream",
     "text": [
      "La corrélation avec la cible est de -0.022233247373426582.\n"
     ]
    }
   ],
   "source": [
    "eda.plot_has_default(initial_data)\n",
    "eda.compute_correlation_has_default_target(initial_data)"
   ]
  },
  {
   "cell_type": "markdown",
   "id": "daily-trading",
   "metadata": {},
   "source": [
    "Nous décidons de garder la variable en l'encodant comme une binaire 0-1, même si la corrélation semble trop faible pour que nous la gardions finalement dans notre modèle."
   ]
  },
  {
   "cell_type": "markdown",
   "id": "knowing-messaging",
   "metadata": {},
   "source": [
    "## Lien entre la variable RESULT_LAST_CAMPAIGN et la cible"
   ]
  },
  {
   "cell_type": "markdown",
   "id": "sublime-video",
   "metadata": {
    "variables": {
     "'%.2f' %(100 * initial_data['RESULT_LAST_CAMPAIGN'].isnull()).mean() ": "81.84"
    }
   },
   "source": [
    "Les campagnes de marketing de la banque se sont étendues sur au moins deux ans, et certains clients ont pu être contactés plusieurs fois. La variable RESULT_LAST_CAMPAIGN indique le résultat de ce dernier contact, en particulier s'il a donné lieu à une première souscription.\n",
    "\n",
    "Cependant, cette variable possède de nombreuses valeurs manquantes : {{'%.2f' %(100 * initial_data['RESULT_LAST_CAMPAIGN'].isnull()).mean() }}% de toutes les valeurs. Observons l'évolution de ces valeurs manquantes : nous représentons pour chaque mois le pourcentage de valeurs manquantes parmi tous les données collectées pendant ce mois."
   ]
  },
  {
   "cell_type": "code",
   "execution_count": 31,
   "id": "rough-installation",
   "metadata": {},
   "outputs": [
    {
     "data": {
      "image/png": "[encoded data removed]",
      "text/plain": [
       "<Figure size 432x288 with 1 Axes>"
      ]
     },
     "metadata": {
      "needs_background": "light"
     },
     "output_type": "display_data"
    }
   ],
   "source": [
    "eda.missing_values_percentage_of_result_by_month(initial_data)"
   ]
  },
  {
   "cell_type": "markdown",
   "id": "essential-neighborhood",
   "metadata": {},
   "source": [
    "Ainsi, on imagine que la banque, après avoir contacté tous les clients qu'elle voulait cibler, a commencé à reprendre contact avec certains clients déjà approchés. Le taux de nouveaux clients, contactés pour la première fois, a diminué jusqu'à se statbiliser autour de 30%.\n",
    "\n",
    "Il paraît ainsi cohérent de penser que ces valeurs manquantes correspondent, non pas à des oublis de la part des commerciaux, mais à des clients pour lesquels aucunes données concernant la dernière campagne n'existent. Ceci est d'ailleurs confirmé par le fait que les valeurs manquantes de RESULT_LAST_CAMPAIGN correspondent (sauf pour cinq observations) à un valeur pour NB_DAYS_LAST_CONTACT de -1, et non NA.\n",
    "\n",
    "Il ne semble donc pas problématique de conserver cette variable. Nous proposons de compter les valeurs manquantes comme une nouvelle catégorie \"First contact\", sauf pour les cinq observations ayant des valeurs positives de NB_DAY_LAST_CONTACT, qu'on peut comptabiliser comme \"Other\".\n",
    "\n",
    "D'autre part, lorsqu'elle est renseignée, cette variable est très intéressante, comme le montre le tableau suivant."
   ]
  },
  {
   "cell_type": "code",
   "execution_count": 32,
   "id": "phantom-nelson",
   "metadata": {},
   "outputs": [
    {
     "data": {
      "text/html": [
       "<div>\n",
       "<style scoped>\n",
       "    .dataframe tbody tr th:only-of-type {\n",
       "        vertical-align: middle;\n",
       "    }\n",
       "\n",
       "    .dataframe tbody tr th {\n",
       "        vertical-align: top;\n",
       "    }\n",
       "\n",
       "    .dataframe thead th {\n",
       "        text-align: right;\n",
       "    }\n",
       "</style>\n",
       "<table border=\"1\" class=\"dataframe\">\n",
       "  <thead>\n",
       "    <tr style=\"text-align: right;\">\n",
       "      <th></th>\n",
       "      <th>Subscription rate</th>\n",
       "    </tr>\n",
       "    <tr>\n",
       "      <th>RESULT_LAST_CAMPAIGN</th>\n",
       "      <th></th>\n",
       "    </tr>\n",
       "  </thead>\n",
       "  <tbody>\n",
       "    <tr>\n",
       "      <th>Fail</th>\n",
       "      <td>0.126050</td>\n",
       "    </tr>\n",
       "    <tr>\n",
       "      <th>First contact</th>\n",
       "      <td>0.091271</td>\n",
       "    </tr>\n",
       "    <tr>\n",
       "      <th>Other</th>\n",
       "      <td>0.167665</td>\n",
       "    </tr>\n",
       "    <tr>\n",
       "      <th>Success</th>\n",
       "      <td>0.645357</td>\n",
       "    </tr>\n",
       "  </tbody>\n",
       "</table>\n",
       "</div>"
      ],
      "text/plain": [
       "                      Subscription rate\n",
       "RESULT_LAST_CAMPAIGN                   \n",
       "Fail                           0.126050\n",
       "First contact                  0.091271\n",
       "Other                          0.167665\n",
       "Success                        0.645357"
      ]
     },
     "metadata": {},
     "output_type": "display_data"
    }
   ],
   "source": [
    "eda.fill_missing_values_result_last_campaign(initial_data)\n",
    "eda.show_table_subscription_by_result_last_campaign(initial_data)"
   ]
  },
  {
   "cell_type": "markdown",
   "id": "smoking-syndicate",
   "metadata": {},
   "source": [
    "Tout contact antérieur avec le client est donc bénéfique, en particulier en cas de vente. Il s'agit alors peut-être d'un effet de pied-dans-la-porte, ou alors le client est plus enclin à acquérir un produit avec lequel il a été familiarisé une première fois.\n",
    "\n",
    "Finalement, nous utiliserons ce feature avec un encodage one-hot."
   ]
  },
  {
   "cell_type": "markdown",
   "id": "protected-group",
   "metadata": {},
   "source": [
    "## Lien entre la variable NB_DAYS_LAST_CONTACT et la cible"
   ]
  },
  {
   "cell_type": "markdown",
   "id": "apparent-negotiation",
   "metadata": {},
   "source": [
    "Comme expliqué précédemment, la variable NB_DAY_LAST_CONTACT indique le nombre de jours passés depuis le dernier contact avec le client, ou -1 si aucun contact n'a eu lieu."
   ]
  },
  {
   "cell_type": "code",
   "execution_count": 33,
   "id": "exotic-midwest",
   "metadata": {},
   "outputs": [
    {
     "data": {
      "image/png": "[encoded data removed]",
      "text/plain": [
       "<Figure size 432x288 with 1 Axes>"
      ]
     },
     "metadata": {
      "needs_background": "light"
     },
     "output_type": "display_data"
    }
   ],
   "source": [
    "eda.plot_nb_days_last_contact(initial_data)"
   ]
  },
  {
   "cell_type": "markdown",
   "id": "loving-listing",
   "metadata": {
    "variables": {
     "'%.3f' % initial_data[['NB_DAY_LAST_CONTACT', 'SUBSCRIPTION']].corr()['SUBSCRIPTION'][0]": "0.103",
     "(initial_data['NB_DAY_LAST_CONTACT'].ge(500)).sum()": "102"
    }
   },
   "source": [
    "Nous avons représenté ci-dessus la distribution de la variable pour les valeurs positives. Celle-ci est clairement multimodale avec un maximum local tous les quatre-vingt dix jours environ, ce qui pourrait suggérer que les campagnes sont relancées tous les trois mois.\n",
    "\n",
    "D'autre part, on observe qu'il y a {{(initial_data['NB_DAY_LAST_CONTACT'].ge(500)).sum()}} valeurs supérieures à 500, que l'on pourrait considérer comme des outliers, et qu'il faudra traiter.\n",
    "\n",
    "Ces outliers et les valeurs -1 sont probablement la cause de la mauvaise corrélation entre NB_DAY_LAST_CONTACT et la cible : {{'%.3f' % initial_data[['NB_DAY_LAST_CONTACT', 'SUBSCRIPTION']].corr()['SUBSCRIPTION'][0]}}. Une solution est alors de regrouper (binning) les variables en quatre bins déterminés automatiquement à l'aide des quartiles de la distribution représentée ci-dessus : les données positives sont remplacées par le centre du bin correspondant, et les -1 sont remplacés par le plus grand centre (le centre du quatrième et dernier groupe). On résout par la même manière le problème des outliers.\n",
    "\n",
    "NB : Les quatre bins correspondent aux quatre modes principaux de la distribution ci-dessus.\n",
    "\n",
    "Les fonctions suivantes calculent le nouveau feature BINNED_NB_DAYS_LAST_CONTACT et sa corrélation avec la cible."
   ]
  },
  {
   "cell_type": "code",
   "execution_count": 34,
   "id": "silver-spectrum",
   "metadata": {},
   "outputs": [
    {
     "name": "stdout",
     "output_type": "stream",
     "text": [
      "La corrélation entre le nouveau feature et la cible est de -0.20202195227443118.\n"
     ]
    }
   ],
   "source": [
    "eda.compute_binned_nb_days_last_contact(initial_data)\n",
    "eda.compute_correlation_binned_nb_days_last_contact_target(initial_data)"
   ]
  },
  {
   "cell_type": "markdown",
   "id": "signal-territory",
   "metadata": {},
   "source": [
    "Cette corrélation est deux fois plus grande en valeur absolue qu'avec la variable originale."
   ]
  },
  {
   "cell_type": "markdown",
   "id": "shaped-university",
   "metadata": {},
   "source": [
    "## Lien entre les variables NB_CONTACTS, NB_CONTACTS_LAST_CAMPAIGN et la cible"
   ]
  },
  {
   "cell_type": "markdown",
   "id": "faced-slovak",
   "metadata": {},
   "source": [
    "Cette variable donne le nombre de contacts ayant eu lieu avec le client pendant cette campagne et pendant la dernière respectivement.\n",
    "\n",
    "Si on trace la distribution de la variable NB_CONTACTS, on obtient le graphe suivant."
   ]
  },
  {
   "cell_type": "code",
   "execution_count": 35,
   "id": "buried-assignment",
   "metadata": {},
   "outputs": [
    {
     "data": {
      "image/png": "[encoded data removed]",
      "text/plain": [
       "<Figure size 432x288 with 1 Axes>"
      ]
     },
     "metadata": {
      "needs_background": "light"
     },
     "output_type": "display_data"
    }
   ],
   "source": [
    "eda.histogram_nb_contacts(initial_data)"
   ]
  },
  {
   "cell_type": "markdown",
   "id": "careful-stand",
   "metadata": {},
   "source": [
    "On voit qu'il y a des outliers, et on les traite en clippant la variable au dessus de 15."
   ]
  },
  {
   "cell_type": "code",
   "execution_count": 36,
   "id": "material-fundamentals",
   "metadata": {},
   "outputs": [
    {
     "data": {
      "image/png": "[encoded data removed]",
      "text/plain": [
       "<Figure size 432x288 with 1 Axes>"
      ]
     },
     "metadata": {
      "needs_background": "light"
     },
     "output_type": "display_data"
    }
   ],
   "source": [
    "eda.clip_nb_contacts(initial_data)\n",
    "eda.histogram_clipped_nb_contacts(initial_data)"
   ]
  },
  {
   "cell_type": "markdown",
   "id": "light-separate",
   "metadata": {},
   "source": [
    "On traite la variable NB_CONTACTS_LAST_CAMPAIGN exactement de la même manière."
   ]
  },
  {
   "cell_type": "code",
   "execution_count": 37,
   "id": "stable-server",
   "metadata": {},
   "outputs": [
    {
     "data": {
      "image/png": "[encoded data removed]",
      "text/plain": [
       "<Figure size 432x288 with 1 Axes>"
      ]
     },
     "metadata": {
      "needs_background": "light"
     },
     "output_type": "display_data"
    }
   ],
   "source": [
    "eda.clip_nb_contacts_last_campaign(initial_data)\n",
    "eda.histogram_clipped_nb_contacts_last_campaign(initial_data)"
   ]
  },
  {
   "cell_type": "markdown",
   "id": "ultimate-regression",
   "metadata": {},
   "source": [
    "## Traitement des variables socio-économiques"
   ]
  },
  {
   "cell_type": "markdown",
   "id": "closing-buffer",
   "metadata": {},
   "source": [
    "Les variables proposées sont de deux types : le taux de variation de l'emploi est trimestriel, tandis que l'indice des prix à la consommation et l'indice de confiance des consommateurs sont mensuels.\n",
    "\n",
    "Certaines données sont manquantes. Une complétion parfaite aurait pu être obtenue pour la variable trimestrielle, mais par simplicité, nous appliquerons une complétion par interpolation."
   ]
  }
 ],
 "metadata": {
  "kernelspec": {
   "display_name": "Python 3",
   "language": "python",
   "name": "python3"
  },
  "language_info": {
   "codemirror_mode": {
    "name": "ipython",
    "version": 3
   },
   "file_extension": ".py",
   "mimetype": "text/x-python",
   "name": "python",
   "nbconvert_exporter": "python",
   "pygments_lexer": "ipython3",
   "version": "3.9.1"
  }
 },
 "nbformat": 4,
 "nbformat_minor": 5
}
