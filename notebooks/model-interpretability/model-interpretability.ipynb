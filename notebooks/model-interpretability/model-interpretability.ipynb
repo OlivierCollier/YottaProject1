{
 "cells": [
  {
   "cell_type": "markdown",
   "id": "valuable-crossing",
   "metadata": {},
   "source": [
    "# Notebook 3 : interprétabilité du modèle\n",
    "---"
   ]
  },
  {
   "cell_type": "code",
   "execution_count": 24,
   "id": "breathing-cattle",
   "metadata": {},
   "outputs": [],
   "source": [
    "import pandas as pd\n",
    "import numpy as np\n",
    "import pickle\n",
    "\n",
    "from sklearn.model_selection import train_test_split\n",
    "from sklearn.pipeline import Pipeline\n",
    "from eli5.sklearn.permutation_importance import PermutationImportance\n",
    "from treeinterpreter import treeinterpreter\n",
    "\n",
    "import src.config.column_names as col\n",
    "import src.config.base as base\n",
    "from src.infrastructure.build_dataset import DataBuilderFactory, DataMerger\n",
    "from src.domain.cleaning import MissingValueTreatment\n",
    "from src.domain.build_features import feature_engineering_transformer\n",
    "from interpretability_utilities import plot_features_importance"
   ]
  },
  {
   "cell_type": "code",
   "execution_count": 10,
   "id": "backed-smart",
   "metadata": {},
   "outputs": [],
   "source": [
    "from warnings import simplefilter\n",
    "from pandas.core.common import SettingWithCopyWarning\n",
    "\n",
    "# Ignorer les warnings pour améliorer la lisibilité\n",
    "simplefilter(action='ignore', category=FutureWarning)\n",
    "simplefilter(action=\"ignore\", category=SettingWithCopyWarning)"
   ]
  },
  {
   "cell_type": "markdown",
   "id": "artificial-wages",
   "metadata": {},
   "source": [
    "# 1. Chargement des données"
   ]
  },
  {
   "cell_type": "code",
   "execution_count": 3,
   "id": "talented-married",
   "metadata": {},
   "outputs": [
    {
     "name": "stdout",
     "output_type": "stream",
     "text": [
      "========== Processing client data ==========\n",
      "- Casting types.\n",
      "- Translating French terms to English.\n",
      "- Dropping rows with too many missing values.\n",
      "- Correcting erroneous entries.\n",
      "========== Processing eco data ==========\n",
      "- Casting types.\n",
      "- Translating French terms to English.\n",
      "- Dropping rows with too many missing values.\n",
      "- Imputing missing data.\n",
      "========== Merging datasets ==========\n",
      "========== Separating target from explanatory variables ==========\n"
     ]
    }
   ],
   "source": [
    "# Build datasets\n",
    "\n",
    "client_builder = DataBuilderFactory(base.TRAIN_CLIENT_DATA_PATH, base.config_client_data, base.ALL_CLIENT_DATA_TRANSLATION)\n",
    "client_data = client_builder.transform('client')\n",
    "\n",
    "eco_builder = DataBuilderFactory(base.TRAIN_ECO_DATA_PATH, base.config_eco_data)\n",
    "eco_data = eco_builder.transform('eco')\n",
    "\n",
    "# Merging files to final dataset\n",
    "X, y = DataMerger(client_data, eco_data, col.MERGER_FIELD).transform()\n",
    "y = y.eq('Yes').astype(int)"
   ]
  },
  {
   "cell_type": "code",
   "execution_count": 4,
   "id": "confidential-fault",
   "metadata": {},
   "outputs": [],
   "source": [
    "X_train, X_test, y_train, y_test = train_test_split(X, y, \n",
    "                                                    test_size=0.2, \n",
    "                                                    stratify=y, \n",
    "                                                    random_state=base.SEED)"
   ]
  },
  {
   "cell_type": "code",
   "execution_count": 5,
   "id": "dressed-davis",
   "metadata": {},
   "outputs": [],
   "source": [
    "column_names = ['BALANCE', 'NB_CONTACT_CURRENT_CAMPAIGN', 'NB_CONTACT_LAST_CAMPAIGN', 'EDUCATION??', 'EDUCATION_SECONDARY', \n",
    "                'HAS_HOUSING_LOAN', 'HAS_PERSO_LOAN', 'HAS_DEFAULT', 'IS_RETIRED', 'WAS_LAST_CAMPAIGN_SUCCESS', 'IS_SINGLE',\n",
    "               'SUP_25_YEARS_OLD', 'SUP_60_YEARS_OLD', 'AGE', 'LAST_CONTACT_DATE', 'HAS_LOAN', 'IDX_EMPLOYMENT_RATE',\n",
    "                'IDX_CONSUMER_PRICE', 'IDX_CONSUMER_CONFIDENCE']"
   ]
  },
  {
   "cell_type": "markdown",
   "id": "national-lawsuit",
   "metadata": {},
   "source": [
    "# 2. Chargement du modèle et entraînement"
   ]
  },
  {
   "cell_type": "code",
   "execution_count": 6,
   "id": "complex-vacation",
   "metadata": {},
   "outputs": [],
   "source": [
    "pipeline = pickle.load(open(base.SAVED_MODEL_PATH, \"rb\"))"
   ]
  },
  {
   "cell_type": "code",
   "execution_count": 7,
   "id": "liquid-fleece",
   "metadata": {},
   "outputs": [],
   "source": [
    "# Extraction du classifieur\n",
    "clf = pipeline.best_estimator_.named_steps['rf_clf']"
   ]
  },
  {
   "cell_type": "code",
   "execution_count": 8,
   "id": "developing-ownership",
   "metadata": {},
   "outputs": [],
   "source": [
    "# Extraction des étapes de pre-processing (imputation et feature engineering)\n",
    "transfo_pipeline = pipeline.best_estimator_[:2]"
   ]
  },
  {
   "cell_type": "code",
   "execution_count": 9,
   "id": "strange-coast",
   "metadata": {},
   "outputs": [
    {
     "name": "stderr",
     "output_type": "stream",
     "text": [
      "/Users/jeremie/Library/Caches/pypoetry/virtualenvs/productsubscription-oc-jk-rf8_RRH8-py3.8/lib/python3.8/site-packages/pandas/core/indexing.py:1676: SettingWithCopyWarning: \n",
      "A value is trying to be set on a copy of a slice from a DataFrame.\n",
      "Try using .loc[row_indexer,col_indexer] = value instead\n",
      "\n",
      "See the caveats in the documentation: https://pandas.pydata.org/pandas-docs/stable/user_guide/indexing.html#returning-a-view-versus-a-copy\n",
      "  self._setitem_single_column(ilocs[0], value, pi)\n",
      "/Users/jeremie/Library/Caches/pypoetry/virtualenvs/productsubscription-oc-jk-rf8_RRH8-py3.8/lib/python3.8/site-packages/pandas/core/indexing.py:1676: SettingWithCopyWarning: \n",
      "A value is trying to be set on a copy of a slice from a DataFrame.\n",
      "Try using .loc[row_indexer,col_indexer] = value instead\n",
      "\n",
      "See the caveats in the documentation: https://pandas.pydata.org/pandas-docs/stable/user_guide/indexing.html#returning-a-view-versus-a-copy\n",
      "  self._setitem_single_column(ilocs[0], value, pi)\n",
      "/Users/jeremie/Library/Caches/pypoetry/virtualenvs/productsubscription-oc-jk-rf8_RRH8-py3.8/lib/python3.8/site-packages/pandas/core/indexing.py:1676: SettingWithCopyWarning: \n",
      "A value is trying to be set on a copy of a slice from a DataFrame.\n",
      "Try using .loc[row_indexer,col_indexer] = value instead\n",
      "\n",
      "See the caveats in the documentation: https://pandas.pydata.org/pandas-docs/stable/user_guide/indexing.html#returning-a-view-versus-a-copy\n",
      "  self._setitem_single_column(ilocs[0], value, pi)\n",
      "/Users/jeremie/Library/Caches/pypoetry/virtualenvs/productsubscription-oc-jk-rf8_RRH8-py3.8/lib/python3.8/site-packages/pandas/core/indexing.py:1676: SettingWithCopyWarning: \n",
      "A value is trying to be set on a copy of a slice from a DataFrame.\n",
      "Try using .loc[row_indexer,col_indexer] = value instead\n",
      "\n",
      "See the caveats in the documentation: https://pandas.pydata.org/pandas-docs/stable/user_guide/indexing.html#returning-a-view-versus-a-copy\n",
      "  self._setitem_single_column(ilocs[0], value, pi)\n",
      "/Users/jeremie/Library/Caches/pypoetry/virtualenvs/productsubscription-oc-jk-rf8_RRH8-py3.8/lib/python3.8/site-packages/pandas/core/indexing.py:1676: SettingWithCopyWarning: \n",
      "A value is trying to be set on a copy of a slice from a DataFrame.\n",
      "Try using .loc[row_indexer,col_indexer] = value instead\n",
      "\n",
      "See the caveats in the documentation: https://pandas.pydata.org/pandas-docs/stable/user_guide/indexing.html#returning-a-view-versus-a-copy\n",
      "  self._setitem_single_column(ilocs[0], value, pi)\n",
      "/Users/jeremie/Library/Caches/pypoetry/virtualenvs/productsubscription-oc-jk-rf8_RRH8-py3.8/lib/python3.8/site-packages/pandas/core/indexing.py:1676: SettingWithCopyWarning: \n",
      "A value is trying to be set on a copy of a slice from a DataFrame.\n",
      "Try using .loc[row_indexer,col_indexer] = value instead\n",
      "\n",
      "See the caveats in the documentation: https://pandas.pydata.org/pandas-docs/stable/user_guide/indexing.html#returning-a-view-versus-a-copy\n",
      "  self._setitem_single_column(ilocs[0], value, pi)\n",
      "/Users/jeremie/Library/Caches/pypoetry/virtualenvs/productsubscription-oc-jk-rf8_RRH8-py3.8/lib/python3.8/site-packages/pandas/core/indexing.py:1676: SettingWithCopyWarning: \n",
      "A value is trying to be set on a copy of a slice from a DataFrame.\n",
      "Try using .loc[row_indexer,col_indexer] = value instead\n",
      "\n",
      "See the caveats in the documentation: https://pandas.pydata.org/pandas-docs/stable/user_guide/indexing.html#returning-a-view-versus-a-copy\n",
      "  self._setitem_single_column(ilocs[0], value, pi)\n",
      "/Users/jeremie/Library/Caches/pypoetry/virtualenvs/productsubscription-oc-jk-rf8_RRH8-py3.8/lib/python3.8/site-packages/pandas/core/indexing.py:1676: SettingWithCopyWarning: \n",
      "A value is trying to be set on a copy of a slice from a DataFrame.\n",
      "Try using .loc[row_indexer,col_indexer] = value instead\n",
      "\n",
      "See the caveats in the documentation: https://pandas.pydata.org/pandas-docs/stable/user_guide/indexing.html#returning-a-view-versus-a-copy\n",
      "  self._setitem_single_column(ilocs[0], value, pi)\n",
      "/Users/jeremie/Library/Caches/pypoetry/virtualenvs/productsubscription-oc-jk-rf8_RRH8-py3.8/lib/python3.8/site-packages/pandas/core/indexing.py:1676: SettingWithCopyWarning: \n",
      "A value is trying to be set on a copy of a slice from a DataFrame.\n",
      "Try using .loc[row_indexer,col_indexer] = value instead\n",
      "\n",
      "See the caveats in the documentation: https://pandas.pydata.org/pandas-docs/stable/user_guide/indexing.html#returning-a-view-versus-a-copy\n",
      "  self._setitem_single_column(ilocs[0], value, pi)\n",
      "/Users/jeremie/Library/Caches/pypoetry/virtualenvs/productsubscription-oc-jk-rf8_RRH8-py3.8/lib/python3.8/site-packages/pandas/core/indexing.py:1676: SettingWithCopyWarning: \n",
      "A value is trying to be set on a copy of a slice from a DataFrame.\n",
      "Try using .loc[row_indexer,col_indexer] = value instead\n",
      "\n",
      "See the caveats in the documentation: https://pandas.pydata.org/pandas-docs/stable/user_guide/indexing.html#returning-a-view-versus-a-copy\n",
      "  self._setitem_single_column(ilocs[0], value, pi)\n",
      "/Users/jeremie/Library/Caches/pypoetry/virtualenvs/productsubscription-oc-jk-rf8_RRH8-py3.8/lib/python3.8/site-packages/category_encoders/utils.py:21: FutureWarning: is_categorical is deprecated and will be removed in a future version.  Use is_categorical_dtype instead\n",
      "  elif pd.api.types.is_categorical(cols):\n"
     ]
    }
   ],
   "source": [
    "X_train_transformed = transfo_pipeline.fit_transform(X_train, y_train)\n",
    "X_train_transformed = pd.DataFrame(X_train_transformed, columns=column_names, index= X_train.index)"
   ]
  },
  {
   "cell_type": "code",
   "execution_count": 13,
   "id": "incredible-florist",
   "metadata": {},
   "outputs": [],
   "source": [
    "X_test_transformed = transfo_pipeline.fit_transform(X_test, y_test)\n",
    "X_test_transformed = pd.DataFrame(X_test_transformed, columns=column_names, index= X_test.index)"
   ]
  },
  {
   "cell_type": "code",
   "execution_count": 14,
   "id": "discrete-dream",
   "metadata": {},
   "outputs": [
    {
     "name": "stdout",
     "output_type": "stream",
     "text": [
      "Il y a 19 variables après le feature engineering.\n",
      "\n",
      "Les variables sont les suivantes :\n",
      "['BALANCE', 'NB_CONTACT_CURRENT_CAMPAIGN', 'NB_CONTACT_LAST_CAMPAIGN', 'EDUCATION??', 'EDUCATION_SECONDARY', 'HAS_HOUSING_LOAN', 'HAS_PERSO_LOAN', 'HAS_DEFAULT', 'IS_RETIRED', 'WAS_LAST_CAMPAIGN_SUCCESS', 'IS_SINGLE', 'SUP_25_YEARS_OLD', 'SUP_60_YEARS_OLD', 'AGE', 'LAST_CONTACT_DATE', 'HAS_LOAN', 'IDX_EMPLOYMENT_RATE', 'IDX_CONSUMER_PRICE', 'IDX_CONSUMER_CONFIDENCE']\n"
     ]
    }
   ],
   "source": [
    "print(f'Il y a {X_train_transformed.shape[1]} variables après le feature engineering.\\n')\n",
    "print('Les variables sont les suivantes :')\n",
    "print(column_names)"
   ]
  },
  {
   "cell_type": "markdown",
   "id": "infrared-aviation",
   "metadata": {},
   "source": [
    "# 3. Importance des variables"
   ]
  },
  {
   "cell_type": "markdown",
   "id": "exterior-capitol",
   "metadata": {},
   "source": [
    "## a. MDI (Mean Decrease Impurity Importance)"
   ]
  },
  {
   "cell_type": "code",
   "execution_count": 15,
   "id": "leading-prize",
   "metadata": {},
   "outputs": [],
   "source": [
    "importances = clf.feature_importances_"
   ]
  },
  {
   "cell_type": "code",
   "execution_count": 16,
   "id": "portable-cherry",
   "metadata": {},
   "outputs": [
    {
     "data": {
      "image/png": "[encoded data removed]",
      "text/plain": [
       "<Figure size 720x432 with 1 Axes>"
      ]
     },
     "metadata": {
      "needs_background": "light"
     },
     "output_type": "display_data"
    }
   ],
   "source": [
    "plot_features_importance(X_train_transformed,importances, 20)"
   ]
  },
  {
   "cell_type": "markdown",
   "id": "warming-transcript",
   "metadata": {},
   "source": [
    "## b. Permutation importance"
   ]
  },
  {
   "cell_type": "code",
   "execution_count": 19,
   "id": "furnished-edgar",
   "metadata": {},
   "outputs": [],
   "source": [
    "permutation_imp = PermutationImportance(clf, scoring='average_precision', n_iter=20, random_state=42, cv='prefit', refit=False)"
   ]
  },
  {
   "cell_type": "code",
   "execution_count": 20,
   "id": "played-basin",
   "metadata": {},
   "outputs": [
    {
     "data": {
      "text/plain": [
       "PermutationImportance(estimator=RandomForestClassifier(class_weight={0: 1,\n",
       "                                                                     1: 9},\n",
       "                                                       max_depth=10,\n",
       "                                                       min_samples_leaf=10,\n",
       "                                                       n_estimators=220),\n",
       "                      n_iter=20, random_state=42, refit=False,\n",
       "                      scoring='average_precision')"
      ]
     },
     "execution_count": 20,
     "metadata": {},
     "output_type": "execute_result"
    }
   ],
   "source": [
    "permutation_imp.fit(X_test_transformed, y_test)"
   ]
  },
  {
   "cell_type": "code",
   "execution_count": 22,
   "id": "whole-flexibility",
   "metadata": {},
   "outputs": [
    {
     "data": {
      "image/png": "[encoded data removed]",
      "text/plain": [
       "<Figure size 720x432 with 1 Axes>"
      ]
     },
     "metadata": {
      "needs_background": "light"
     },
     "output_type": "display_data"
    }
   ],
   "source": [
    "plot_features_importance(data=X_test_transformed, importances=permutation_imp.feature_importances_, n_feat=10)"
   ]
  },
  {
   "cell_type": "markdown",
   "id": "union-relevance",
   "metadata": {},
   "source": [
    "# 4. Tree interpreter"
   ]
  },
  {
   "cell_type": "markdown",
   "id": "polar-curve",
   "metadata": {},
   "source": [
    "## a. Contributions globales"
   ]
  },
  {
   "cell_type": "code",
   "execution_count": 26,
   "id": "experimental-discovery",
   "metadata": {},
   "outputs": [],
   "source": [
    "predictions, bias, contributions = treeinterpreter.predict(clf, X_test_transformed)"
   ]
  },
  {
   "cell_type": "code",
   "execution_count": 30,
   "id": "fatal-amsterdam",
   "metadata": {},
   "outputs": [
    {
     "data": {
      "image/png": "[encoded data removed]",
      "text/plain": [
       "<Figure size 720x432 with 1 Axes>"
      ]
     },
     "metadata": {
      "needs_background": "light"
     },
     "output_type": "display_data"
    }
   ],
   "source": [
    "tree_interpreter_importances = contributions[:, :, 1].sum(axis=0)\n",
    "plot_features_importance(data=X_test_transformed, importances=tree_interpreter_importances, n_feat=10)"
   ]
  },
  {
   "cell_type": "markdown",
   "id": "speaking-fishing",
   "metadata": {},
   "source": [
    "## b. Contributions locales"
   ]
  },
  {
   "cell_type": "code",
   "execution_count": null,
   "id": "induced-metallic",
   "metadata": {},
   "outputs": [],
   "source": []
  }
 ],
 "metadata": {
  "kernelspec": {
   "display_name": "Python 3",
   "language": "python",
   "name": "python3"
  },
  "language_info": {
   "codemirror_mode": {
    "name": "ipython",
    "version": 3
   },
   "file_extension": ".py",
   "mimetype": "text/x-python",
   "name": "python",
   "nbconvert_exporter": "python",
   "pygments_lexer": "ipython3",
   "version": "3.8.1"
  }
 },
 "nbformat": 4,
 "nbformat_minor": 5
}
